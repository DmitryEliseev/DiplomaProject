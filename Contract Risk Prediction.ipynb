{
 "cells": [
  {
   "cell_type": "code",
   "execution_count": 53,
   "metadata": {
    "collapsed": true
   },
   "outputs": [],
   "source": [
    "import pandas as pd\n",
    "import numpy as np\n",
    "\n",
    "from sklearn.linear_model import LogisticRegression\n",
    "from sklearn.preprocessing import StandardScaler\n",
    "from sklearn.metrics import accuracy_score, log_loss, classification_report\n",
    "from sklearn.model_selection import train_test_split, KFold\n",
    "\n",
    "import seaborn as sb\n",
    "\n",
    "from matplotlib.ticker import MultipleLocator\n",
    "import matplotlib.pyplot as plt\n",
    "%matplotlib inline"
   ]
  },
  {
   "cell_type": "code",
   "execution_count": 3,
   "metadata": {},
   "outputs": [
    {
     "name": "stdout",
     "output_type": "stream",
     "text": [
      "(11926, 15)\n"
     ]
    }
   ],
   "source": [
    "# Считывание хороших и плохих контрактов\n",
    "bad_cntr = pd.read_csv('yarobl_bad_contracts_plus.csv')\n",
    "good_cntr = pd.read_csv('yaroblmz_good_contracts.csv')\n",
    "data = bad_cntr.append(good_cntr)\n",
    "print(data.shape)\n",
    "\n",
    "# Сокращение количества хороших контрактов до числа имеющихся плохих\n",
    "# data = good_cntr.append(bad_cntr.iloc[:good_cntr.shape[0],:])\n",
    "# print(data.shape)"
   ]
  },
  {
   "cell_type": "code",
   "execution_count": 4,
   "metadata": {},
   "outputs": [
    {
     "data": {
      "text/html": [
       "<div>\n",
       "<style>\n",
       "    .dataframe thead tr:only-child th {\n",
       "        text-align: right;\n",
       "    }\n",
       "\n",
       "    .dataframe thead th {\n",
       "        text-align: left;\n",
       "    }\n",
       "\n",
       "    .dataframe tbody tr th {\n",
       "        vertical-align: top;\n",
       "    }\n",
       "</style>\n",
       "<table border=\"1\" class=\"dataframe\">\n",
       "  <thead>\n",
       "    <tr style=\"text-align: right;\">\n",
       "      <th></th>\n",
       "      <th>cntrID</th>\n",
       "      <th>org_cntr_num</th>\n",
       "      <th>org_1s_sev</th>\n",
       "      <th>org_1s_sup_sev</th>\n",
       "      <th>sup_cntr_num</th>\n",
       "      <th>sup_cntr_avg_price</th>\n",
       "      <th>sup_cntr_avg_penalty</th>\n",
       "      <th>sup_no_pnl_share</th>\n",
       "      <th>sup_okpd_exp</th>\n",
       "      <th>sup_1s_sev</th>\n",
       "      <th>sup_1s_org_sev</th>\n",
       "      <th>sup_sim_price</th>\n",
       "      <th>price_higher_pmp</th>\n",
       "      <th>price_too_low</th>\n",
       "      <th>cntr_result</th>\n",
       "    </tr>\n",
       "  </thead>\n",
       "  <tbody>\n",
       "    <tr>\n",
       "      <th>0</th>\n",
       "      <td>1573678</td>\n",
       "      <td>871</td>\n",
       "      <td>0.0</td>\n",
       "      <td>0.0</td>\n",
       "      <td>2</td>\n",
       "      <td>189491.0</td>\n",
       "      <td>0.0</td>\n",
       "      <td>1.0</td>\n",
       "      <td>0.50000</td>\n",
       "      <td>0</td>\n",
       "      <td>0.0</td>\n",
       "      <td>0.50000</td>\n",
       "      <td>0</td>\n",
       "      <td>0</td>\n",
       "      <td>0</td>\n",
       "    </tr>\n",
       "    <tr>\n",
       "      <th>1</th>\n",
       "      <td>1505114</td>\n",
       "      <td>188</td>\n",
       "      <td>0.0</td>\n",
       "      <td>0.0</td>\n",
       "      <td>22</td>\n",
       "      <td>267789.0</td>\n",
       "      <td>0.0</td>\n",
       "      <td>1.0</td>\n",
       "      <td>1.00000</td>\n",
       "      <td>0</td>\n",
       "      <td>0.0</td>\n",
       "      <td>0.09091</td>\n",
       "      <td>0</td>\n",
       "      <td>0</td>\n",
       "      <td>0</td>\n",
       "    </tr>\n",
       "    <tr>\n",
       "      <th>2</th>\n",
       "      <td>1516375</td>\n",
       "      <td>199</td>\n",
       "      <td>0.0</td>\n",
       "      <td>0.0</td>\n",
       "      <td>5</td>\n",
       "      <td>386494.0</td>\n",
       "      <td>0.0</td>\n",
       "      <td>1.0</td>\n",
       "      <td>1.00000</td>\n",
       "      <td>0</td>\n",
       "      <td>0.0</td>\n",
       "      <td>0.20000</td>\n",
       "      <td>0</td>\n",
       "      <td>0</td>\n",
       "      <td>0</td>\n",
       "    </tr>\n",
       "    <tr>\n",
       "      <th>3</th>\n",
       "      <td>1603679</td>\n",
       "      <td>52</td>\n",
       "      <td>0.0</td>\n",
       "      <td>0.0</td>\n",
       "      <td>43</td>\n",
       "      <td>272642.0</td>\n",
       "      <td>0.0</td>\n",
       "      <td>1.0</td>\n",
       "      <td>0.18605</td>\n",
       "      <td>0</td>\n",
       "      <td>0.0</td>\n",
       "      <td>0.04651</td>\n",
       "      <td>0</td>\n",
       "      <td>0</td>\n",
       "      <td>0</td>\n",
       "    </tr>\n",
       "    <tr>\n",
       "      <th>4</th>\n",
       "      <td>1511046</td>\n",
       "      <td>569</td>\n",
       "      <td>0.0</td>\n",
       "      <td>0.0</td>\n",
       "      <td>47</td>\n",
       "      <td>487732.0</td>\n",
       "      <td>0.0</td>\n",
       "      <td>1.0</td>\n",
       "      <td>0.61702</td>\n",
       "      <td>0</td>\n",
       "      <td>0.0</td>\n",
       "      <td>0.02128</td>\n",
       "      <td>0</td>\n",
       "      <td>1</td>\n",
       "      <td>0</td>\n",
       "    </tr>\n",
       "  </tbody>\n",
       "</table>\n",
       "</div>"
      ],
      "text/plain": [
       "    cntrID  org_cntr_num  org_1s_sev  org_1s_sup_sev  sup_cntr_num  \\\n",
       "0  1573678           871         0.0             0.0             2   \n",
       "1  1505114           188         0.0             0.0            22   \n",
       "2  1516375           199         0.0             0.0             5   \n",
       "3  1603679            52         0.0             0.0            43   \n",
       "4  1511046           569         0.0             0.0            47   \n",
       "\n",
       "   sup_cntr_avg_price  sup_cntr_avg_penalty  sup_no_pnl_share  sup_okpd_exp  \\\n",
       "0            189491.0                   0.0               1.0       0.50000   \n",
       "1            267789.0                   0.0               1.0       1.00000   \n",
       "2            386494.0                   0.0               1.0       1.00000   \n",
       "3            272642.0                   0.0               1.0       0.18605   \n",
       "4            487732.0                   0.0               1.0       0.61702   \n",
       "\n",
       "   sup_1s_sev  sup_1s_org_sev  sup_sim_price  price_higher_pmp  price_too_low  \\\n",
       "0           0             0.0        0.50000                 0              0   \n",
       "1           0             0.0        0.09091                 0              0   \n",
       "2           0             0.0        0.20000                 0              0   \n",
       "3           0             0.0        0.04651                 0              0   \n",
       "4           0             0.0        0.02128                 0              1   \n",
       "\n",
       "   cntr_result  \n",
       "0            0  \n",
       "1            0  \n",
       "2            0  \n",
       "3            0  \n",
       "4            0  "
      ]
     },
     "execution_count": 4,
     "metadata": {},
     "output_type": "execute_result"
    }
   ],
   "source": [
    "data.head(5)"
   ]
  },
  {
   "cell_type": "code",
   "execution_count": 41,
   "metadata": {},
   "outputs": [
    {
     "data": {
      "image/png": "[encoded data removed]",
      "text/plain": [
       "<matplotlib.figure.Figure at 0x1a19b1f358>"
      ]
     },
     "metadata": {},
     "output_type": "display_data"
    }
   ],
   "source": [
    "def plot_confusion_matrix(cm, labels, title='Confusion matrix', cmap=plt.cm.Blues, ):\n",
    "    fig = plt.figure()\n",
    "    ax = fig.add_subplot(111)\n",
    "    cax = ax.matshow(cm, cmap=cmap)\n",
    "    plt.title(title)\n",
    "    fig.colorbar(cax)\n",
    "    ax.xaxis.set_major_locator(MultipleLocator(1))\n",
    "    ax.yaxis.set_major_locator(MultipleLocator(1))\n",
    "    plt.show()\n",
    "\n",
    "plot_confusion_matrix(data.corr(), data.columns)\n",
    "# plt.matshow(data.corr())"
   ]
  },
  {
   "cell_type": "code",
   "execution_count": 5,
   "metadata": {
    "collapsed": true
   },
   "outputs": [],
   "source": [
    "# Удаление строк, в которых есть значение NULL\n",
    "data = data.dropna()"
   ]
  },
  {
   "cell_type": "code",
   "execution_count": 6,
   "metadata": {},
   "outputs": [
    {
     "data": {
      "text/plain": [
       "<matplotlib.axes._subplots.AxesSubplot at 0x1a0e296dd8>"
      ]
     },
     "execution_count": 6,
     "metadata": {},
     "output_type": "execute_result"
    },
    {
     "data": {
      "image/png": "[encoded data removed]",
      "text/plain": [
       "<matplotlib.figure.Figure at 0x107375160>"
      ]
     },
     "metadata": {},
     "output_type": "display_data"
    }
   ],
   "source": [
    "# Количество плохих (=0) и хороших контрактов (=1)\n",
    "sb.countplot(x='cntr_result', data=data, palette='hls')"
   ]
  },
  {
   "cell_type": "code",
   "execution_count": 7,
   "metadata": {
    "collapsed": true
   },
   "outputs": [],
   "source": [
    "# Разбитие датасета на набор описывающих признаков (X) \n",
    "# и соответствущих им предсказываемых величин (у)\n",
    "X = data.iloc[:,1:-1]\n",
    "y = data.cntr_result.values"
   ]
  },
  {
   "cell_type": "code",
   "execution_count": 8,
   "metadata": {},
   "outputs": [
    {
     "data": {
      "text/html": [
       "<div>\n",
       "<style>\n",
       "    .dataframe thead tr:only-child th {\n",
       "        text-align: right;\n",
       "    }\n",
       "\n",
       "    .dataframe thead th {\n",
       "        text-align: left;\n",
       "    }\n",
       "\n",
       "    .dataframe tbody tr th {\n",
       "        vertical-align: top;\n",
       "    }\n",
       "</style>\n",
       "<table border=\"1\" class=\"dataframe\">\n",
       "  <thead>\n",
       "    <tr style=\"text-align: right;\">\n",
       "      <th></th>\n",
       "      <th>org_cntr_num</th>\n",
       "      <th>org_1s_sev</th>\n",
       "      <th>org_1s_sup_sev</th>\n",
       "      <th>sup_cntr_num</th>\n",
       "      <th>sup_cntr_avg_price</th>\n",
       "      <th>sup_cntr_avg_penalty</th>\n",
       "      <th>sup_no_pnl_share</th>\n",
       "      <th>sup_okpd_exp</th>\n",
       "      <th>sup_1s_sev</th>\n",
       "      <th>sup_1s_org_sev</th>\n",
       "      <th>sup_sim_price</th>\n",
       "      <th>price_higher_pmp</th>\n",
       "      <th>price_too_low</th>\n",
       "    </tr>\n",
       "  </thead>\n",
       "  <tbody>\n",
       "    <tr>\n",
       "      <th>count</th>\n",
       "      <td>11862.000000</td>\n",
       "      <td>11862.000000</td>\n",
       "      <td>11862.000000</td>\n",
       "      <td>11862.000000</td>\n",
       "      <td>1.186200e+04</td>\n",
       "      <td>11862.000000</td>\n",
       "      <td>11862.000000</td>\n",
       "      <td>11862.000000</td>\n",
       "      <td>11862.000000</td>\n",
       "      <td>11862.000000</td>\n",
       "      <td>11862.000000</td>\n",
       "      <td>11862.000000</td>\n",
       "      <td>11862.000000</td>\n",
       "    </tr>\n",
       "    <tr>\n",
       "      <th>mean</th>\n",
       "      <td>1013.522762</td>\n",
       "      <td>0.000395</td>\n",
       "      <td>0.000043</td>\n",
       "      <td>52.709492</td>\n",
       "      <td>1.404311e+06</td>\n",
       "      <td>0.000083</td>\n",
       "      <td>0.996570</td>\n",
       "      <td>0.851908</td>\n",
       "      <td>0.000422</td>\n",
       "      <td>0.002482</td>\n",
       "      <td>0.369367</td>\n",
       "      <td>0.053448</td>\n",
       "      <td>0.077980</td>\n",
       "    </tr>\n",
       "    <tr>\n",
       "      <th>std</th>\n",
       "      <td>1468.801179</td>\n",
       "      <td>0.002894</td>\n",
       "      <td>0.000863</td>\n",
       "      <td>108.972630</td>\n",
       "      <td>2.277167e+07</td>\n",
       "      <td>0.002255</td>\n",
       "      <td>0.034587</td>\n",
       "      <td>0.328467</td>\n",
       "      <td>0.020527</td>\n",
       "      <td>0.044228</td>\n",
       "      <td>0.339632</td>\n",
       "      <td>0.224935</td>\n",
       "      <td>0.268152</td>\n",
       "    </tr>\n",
       "    <tr>\n",
       "      <th>min</th>\n",
       "      <td>0.000000</td>\n",
       "      <td>0.000000</td>\n",
       "      <td>0.000000</td>\n",
       "      <td>1.000000</td>\n",
       "      <td>0.000000e+00</td>\n",
       "      <td>0.000000</td>\n",
       "      <td>0.400000</td>\n",
       "      <td>0.000000</td>\n",
       "      <td>0.000000</td>\n",
       "      <td>0.000000</td>\n",
       "      <td>0.000000</td>\n",
       "      <td>0.000000</td>\n",
       "      <td>0.000000</td>\n",
       "    </tr>\n",
       "    <tr>\n",
       "      <th>25%</th>\n",
       "      <td>85.000000</td>\n",
       "      <td>0.000000</td>\n",
       "      <td>0.000000</td>\n",
       "      <td>2.000000</td>\n",
       "      <td>1.329270e+05</td>\n",
       "      <td>0.000000</td>\n",
       "      <td>1.000000</td>\n",
       "      <td>0.980320</td>\n",
       "      <td>0.000000</td>\n",
       "      <td>0.000000</td>\n",
       "      <td>0.111110</td>\n",
       "      <td>0.000000</td>\n",
       "      <td>0.000000</td>\n",
       "    </tr>\n",
       "    <tr>\n",
       "      <th>50%</th>\n",
       "      <td>396.000000</td>\n",
       "      <td>0.000000</td>\n",
       "      <td>0.000000</td>\n",
       "      <td>12.000000</td>\n",
       "      <td>2.191050e+05</td>\n",
       "      <td>0.000000</td>\n",
       "      <td>1.000000</td>\n",
       "      <td>1.000000</td>\n",
       "      <td>0.000000</td>\n",
       "      <td>0.000000</td>\n",
       "      <td>0.217390</td>\n",
       "      <td>0.000000</td>\n",
       "      <td>0.000000</td>\n",
       "    </tr>\n",
       "    <tr>\n",
       "      <th>75%</th>\n",
       "      <td>1260.000000</td>\n",
       "      <td>0.000000</td>\n",
       "      <td>0.000000</td>\n",
       "      <td>52.000000</td>\n",
       "      <td>4.259550e+05</td>\n",
       "      <td>0.000000</td>\n",
       "      <td>1.000000</td>\n",
       "      <td>1.000000</td>\n",
       "      <td>0.000000</td>\n",
       "      <td>0.000000</td>\n",
       "      <td>0.500000</td>\n",
       "      <td>0.000000</td>\n",
       "      <td>0.000000</td>\n",
       "    </tr>\n",
       "    <tr>\n",
       "      <th>max</th>\n",
       "      <td>6408.000000</td>\n",
       "      <td>0.076920</td>\n",
       "      <td>0.047620</td>\n",
       "      <td>1849.000000</td>\n",
       "      <td>1.303496e+09</td>\n",
       "      <td>0.120910</td>\n",
       "      <td>1.000000</td>\n",
       "      <td>10.000000</td>\n",
       "      <td>1.000000</td>\n",
       "      <td>1.000000</td>\n",
       "      <td>1.000000</td>\n",
       "      <td>1.000000</td>\n",
       "      <td>1.000000</td>\n",
       "    </tr>\n",
       "  </tbody>\n",
       "</table>\n",
       "</div>"
      ],
      "text/plain": [
       "       org_cntr_num    org_1s_sev  org_1s_sup_sev  sup_cntr_num  \\\n",
       "count  11862.000000  11862.000000    11862.000000  11862.000000   \n",
       "mean    1013.522762      0.000395        0.000043     52.709492   \n",
       "std     1468.801179      0.002894        0.000863    108.972630   \n",
       "min        0.000000      0.000000        0.000000      1.000000   \n",
       "25%       85.000000      0.000000        0.000000      2.000000   \n",
       "50%      396.000000      0.000000        0.000000     12.000000   \n",
       "75%     1260.000000      0.000000        0.000000     52.000000   \n",
       "max     6408.000000      0.076920        0.047620   1849.000000   \n",
       "\n",
       "       sup_cntr_avg_price  sup_cntr_avg_penalty  sup_no_pnl_share  \\\n",
       "count        1.186200e+04          11862.000000      11862.000000   \n",
       "mean         1.404311e+06              0.000083          0.996570   \n",
       "std          2.277167e+07              0.002255          0.034587   \n",
       "min          0.000000e+00              0.000000          0.400000   \n",
       "25%          1.329270e+05              0.000000          1.000000   \n",
       "50%          2.191050e+05              0.000000          1.000000   \n",
       "75%          4.259550e+05              0.000000          1.000000   \n",
       "max          1.303496e+09              0.120910          1.000000   \n",
       "\n",
       "       sup_okpd_exp    sup_1s_sev  sup_1s_org_sev  sup_sim_price  \\\n",
       "count  11862.000000  11862.000000    11862.000000   11862.000000   \n",
       "mean       0.851908      0.000422        0.002482       0.369367   \n",
       "std        0.328467      0.020527        0.044228       0.339632   \n",
       "min        0.000000      0.000000        0.000000       0.000000   \n",
       "25%        0.980320      0.000000        0.000000       0.111110   \n",
       "50%        1.000000      0.000000        0.000000       0.217390   \n",
       "75%        1.000000      0.000000        0.000000       0.500000   \n",
       "max       10.000000      1.000000        1.000000       1.000000   \n",
       "\n",
       "       price_higher_pmp  price_too_low  \n",
       "count      11862.000000   11862.000000  \n",
       "mean           0.053448       0.077980  \n",
       "std            0.224935       0.268152  \n",
       "min            0.000000       0.000000  \n",
       "25%            0.000000       0.000000  \n",
       "50%            0.000000       0.000000  \n",
       "75%            0.000000       0.000000  \n",
       "max            1.000000       1.000000  "
      ]
     },
     "execution_count": 8,
     "metadata": {},
     "output_type": "execute_result"
    }
   ],
   "source": [
    "# Описательные статистики атрибутов\n",
    "X.describe()"
   ]
  },
  {
   "cell_type": "code",
   "execution_count": 9,
   "metadata": {
    "collapsed": true
   },
   "outputs": [],
   "source": [
    "# Предобработка данных\n",
    "# Медиана = 1, квадратичное отклонени = 0\n",
    "scaler = StandardScaler()\n",
    "X = scaler.fit_transform(X)"
   ]
  },
  {
   "cell_type": "markdown",
   "metadata": {},
   "source": [
    "### 1. Обучение и тестирование на одной выборке"
   ]
  },
  {
   "cell_type": "code",
   "execution_count": 406,
   "metadata": {
    "collapsed": true
   },
   "outputs": [],
   "source": [
    "reg1 = LogisticRegression().fit(X, y) "
   ]
  },
  {
   "cell_type": "code",
   "execution_count": 407,
   "metadata": {},
   "outputs": [
    {
     "name": "stdout",
     "output_type": "stream",
     "text": [
      "Точность 0.737143820604\n",
      "Потеря перекрестной энтропии 0.513927453099\n"
     ]
    }
   ],
   "source": [
    "print('Точность %s' % accuracy_score(y, reg1.predict(X)))\n",
    "print('Потеря перекрестной энтропии %s' % log_loss(y, reg1.predict_proba(X)))"
   ]
  },
  {
   "cell_type": "code",
   "execution_count": 408,
   "metadata": {},
   "outputs": [
    {
     "name": "stdout",
     "output_type": "stream",
     "text": [
      "             precision    recall  f1-score   support\n",
      "\n",
      "     Плохой       0.94      0.50      0.66      5926\n",
      "    Хороший       0.66      0.97      0.79      5936\n",
      "\n",
      "avg / total       0.80      0.74      0.72     11862\n",
      "\n"
     ]
    }
   ],
   "source": [
    "print(classification_report(y, reg1.predict(X), target_names=('Плохой', 'Хороший')))"
   ]
  },
  {
   "cell_type": "markdown",
   "metadata": {},
   "source": [
    "### 2. На 70% выборки - обучение, на оставшихся 30% - тестирование"
   ]
  },
  {
   "cell_type": "code",
   "execution_count": 409,
   "metadata": {
    "collapsed": true
   },
   "outputs": [],
   "source": [
    "X_train, X_test, y_train, y_test = train_test_split(\n",
    "    X, y, test_size=0.3, random_state=42)"
   ]
  },
  {
   "cell_type": "code",
   "execution_count": 410,
   "metadata": {
    "collapsed": true
   },
   "outputs": [],
   "source": [
    "reg2 = LogisticRegression().fit(X_train, y_train)"
   ]
  },
  {
   "cell_type": "code",
   "execution_count": 411,
   "metadata": {},
   "outputs": [
    {
     "name": "stdout",
     "output_type": "stream",
     "text": [
      "Точность 0.739732626761 на обучающей выборке\n",
      "Точность 0.727732509132 на тестовой выборке\n",
      "Потеря перекрестной энтропии 0.514698536408\n"
     ]
    }
   ],
   "source": [
    "print('Точность %s на обучающей выборке' % accuracy_score(y_train, reg2.predict(X_train)))\n",
    "print('Точность %s на тестовой выборке' % accuracy_score(y_test, reg2.predict(X_test)))\n",
    "print('Потеря перекрестной энтропии %s' % log_loss(y_test, reg2.predict_proba(X_test)))"
   ]
  },
  {
   "cell_type": "code",
   "execution_count": 412,
   "metadata": {},
   "outputs": [
    {
     "name": "stdout",
     "output_type": "stream",
     "text": [
      "             precision    recall  f1-score   support\n",
      "\n",
      "     Плохой       0.95      0.50      0.65      5926\n",
      "    Хороший       0.66      0.98      0.79      5936\n",
      "\n",
      "avg / total       0.81      0.74      0.72     11862\n",
      "\n"
     ]
    }
   ],
   "source": [
    "print(classification_report(y, reg2.predict(X), target_names=('Плохой', 'Хороший')))"
   ]
  },
  {
   "cell_type": "markdown",
   "metadata": {},
   "source": [
    "### 3. Перекрестная проверка"
   ]
  },
  {
   "cell_type": "markdown",
   "metadata": {},
   "source": [
    "Не забывай про правило локтя. Andrey N.G."
   ]
  },
  {
   "cell_type": "code",
   "execution_count": 10,
   "metadata": {
    "collapsed": true
   },
   "outputs": [],
   "source": [
    "reg3 = LogisticRegression()"
   ]
  },
  {
   "cell_type": "code",
   "execution_count": 11,
   "metadata": {
    "collapsed": true
   },
   "outputs": [],
   "source": [
    "y_train_real = np.array([])\n",
    "y_test_real = np.array([])\n",
    "\n",
    "y_train_pred = np.array([])\n",
    "y_test_pred = np.array([])\n",
    "y_test_pred_proba = np.zeros((0, 2))"
   ]
  },
  {
   "cell_type": "code",
   "execution_count": 12,
   "metadata": {
    "collapsed": true
   },
   "outputs": [],
   "source": [
    "for train_index, test_index in KFold(n_splits=10).split(X):\n",
    "    X_train = X[train_index]\n",
    "    X_test = X[test_index]\n",
    "    \n",
    "    y_train = y[train_index]\n",
    "    y_test = y[test_index]\n",
    "    \n",
    "    reg3.fit(X_train, y_train)\n",
    "    \n",
    "    y_train_real = np.concatenate((y_train_real, y_train))\n",
    "    y_test_real = np.concatenate((y_test_real, y_test))\n",
    "    \n",
    "    y_train_pred = np.concatenate((y_train_pred, reg3.predict(X_train)))\n",
    "    y_test_pred = np.concatenate((y_test_pred, reg3.predict(X_test)))\n",
    "    y_test_pred_proba = np.concatenate((y_test_pred_proba, reg3.predict_proba(X_test)))    "
   ]
  },
  {
   "cell_type": "code",
   "execution_count": 13,
   "metadata": {},
   "outputs": [
    {
     "data": {
      "text/plain": [
       "[('sup_1s_org_sev', -1.4221097014884934),\n",
       " ('price_higher_pmp', -0.68004761964557681),\n",
       " ('sup_no_pnl_share', -0.36685251587583523),\n",
       " ('sup_1s_sev', -0.14531454922030848),\n",
       " ('price_too_low', -0.13151011031138682),\n",
       " ('sup_cntr_avg_penalty', -0.12650400477908127),\n",
       " ('sup_sim_price', -0.0512395474339465),\n",
       " ('org_1s_sev', -0.034292182204872464),\n",
       " ('sup_cntr_num', -0.030482787348224381),\n",
       " ('sup_cntr_avg_price', -0.02692158200958273),\n",
       " ('org_1s_sup_sev', 0.018252178603792593),\n",
       " ('org_cntr_num', 0.29963388849963291),\n",
       " ('sup_okpd_exp', 2.3231316923924155)]"
      ]
     },
     "execution_count": 13,
     "metadata": {},
     "output_type": "execute_result"
    }
   ],
   "source": [
    "# Коэффициенты при объясняющих переменных в порядке возрастания\n",
    "sorted(\n",
    "    dict(\n",
    "        zip(\n",
    "            data.iloc[:,1:-1].columns, \n",
    "            list(reg3.coef_[0])\n",
    "        )\n",
    "    ).items(),\n",
    "    key=lambda i: i[1]\n",
    ")"
   ]
  },
  {
   "cell_type": "code",
   "execution_count": 14,
   "metadata": {},
   "outputs": [
    {
     "name": "stdout",
     "output_type": "stream",
     "text": [
      "Точность 0.737537233744 на обучающей выборке\n",
      "Точность 0.708565166077 на тестовой выборке\n",
      "Потеря перекрестной энтропии 0.604331348954\n"
     ]
    }
   ],
   "source": [
    "print('Точность %s на обучающей выборке' % accuracy_score(y_train_real, y_train_pred))\n",
    "print('Точность %s на тестовой выборке' % accuracy_score(y_test_real, y_test_pred))\n",
    "print('Потеря перекрестной энтропии %s' % log_loss(y_test_real, y_test_pred_proba))"
   ]
  },
  {
   "cell_type": "code",
   "execution_count": 15,
   "metadata": {},
   "outputs": [
    {
     "name": "stdout",
     "output_type": "stream",
     "text": [
      "             precision    recall  f1-score   support\n",
      "\n",
      "     Плохой       0.88      0.48      0.62      5926\n",
      "    Хороший       0.64      0.93      0.76      5936\n",
      "\n",
      "avg / total       0.76      0.71      0.69     11862\n",
      "\n"
     ]
    }
   ],
   "source": [
    "print(classification_report(y_test_real, y_test_pred, target_names=('Плохой', 'Хороший')))"
   ]
  },
  {
   "cell_type": "code",
   "execution_count": 61,
   "metadata": {
    "collapsed": true
   },
   "outputs": [],
   "source": [
    "def predict_probalistic(data_row):\n",
    "    report_str = 'Cntr ID: {}\\nReal result: {}\\nBad cntr prob: {}\\nGood cntr prob: {}\\nPred class: {}'\n",
    "    \n",
    "    x_ = data_row.iloc[:, 1:-1]\n",
    "    x_ = scaler.fit_transform(x_)\n",
    "    prediction = reg3.predict_proba(x_)[0]\n",
    "    \n",
    "    print(report_str.format(\n",
    "        data_row.cntrID.values[0],\n",
    "        data_row.cntr_result.values[0],\n",
    "        prediction[0],\n",
    "        prediction[1],\n",
    "        reg3.predict(x_)[0]\n",
    "    ))"
   ]
  },
  {
   "cell_type": "code",
   "execution_count": 62,
   "metadata": {},
   "outputs": [
    {
     "data": {
      "text/html": [
       "<div>\n",
       "<style>\n",
       "    .dataframe thead tr:only-child th {\n",
       "        text-align: right;\n",
       "    }\n",
       "\n",
       "    .dataframe thead th {\n",
       "        text-align: left;\n",
       "    }\n",
       "\n",
       "    .dataframe tbody tr th {\n",
       "        vertical-align: top;\n",
       "    }\n",
       "</style>\n",
       "<table border=\"1\" class=\"dataframe\">\n",
       "  <thead>\n",
       "    <tr style=\"text-align: right;\">\n",
       "      <th></th>\n",
       "      <th>cntrID</th>\n",
       "      <th>org_cntr_num</th>\n",
       "      <th>org_1s_sev</th>\n",
       "      <th>org_1s_sup_sev</th>\n",
       "      <th>sup_cntr_num</th>\n",
       "      <th>sup_cntr_avg_price</th>\n",
       "      <th>sup_cntr_avg_penalty</th>\n",
       "      <th>sup_no_pnl_share</th>\n",
       "      <th>sup_okpd_exp</th>\n",
       "      <th>sup_1s_sev</th>\n",
       "      <th>sup_1s_org_sev</th>\n",
       "      <th>sup_sim_price</th>\n",
       "      <th>price_higher_pmp</th>\n",
       "      <th>price_too_low</th>\n",
       "      <th>cntr_result</th>\n",
       "    </tr>\n",
       "  </thead>\n",
       "  <tbody>\n",
       "    <tr>\n",
       "      <th>1108</th>\n",
       "      <td>1394285</td>\n",
       "      <td>6408</td>\n",
       "      <td>0.0</td>\n",
       "      <td>0.0</td>\n",
       "      <td>12</td>\n",
       "      <td>1404678.0</td>\n",
       "      <td>0.0</td>\n",
       "      <td>1.0</td>\n",
       "      <td>1.0</td>\n",
       "      <td>0</td>\n",
       "      <td>0.0</td>\n",
       "      <td>0.25</td>\n",
       "      <td>0</td>\n",
       "      <td>0</td>\n",
       "      <td>1</td>\n",
       "    </tr>\n",
       "  </tbody>\n",
       "</table>\n",
       "</div>"
      ],
      "text/plain": [
       "       cntrID  org_cntr_num  org_1s_sev  org_1s_sup_sev  sup_cntr_num  \\\n",
       "1108  1394285          6408         0.0             0.0            12   \n",
       "\n",
       "      sup_cntr_avg_price  sup_cntr_avg_penalty  sup_no_pnl_share  \\\n",
       "1108           1404678.0                   0.0               1.0   \n",
       "\n",
       "      sup_okpd_exp  sup_1s_sev  sup_1s_org_sev  sup_sim_price  \\\n",
       "1108           1.0           0             0.0           0.25   \n",
       "\n",
       "      price_higher_pmp  price_too_low  cntr_result  \n",
       "1108                 0              0            1  "
      ]
     },
     "execution_count": 62,
     "metadata": {},
     "output_type": "execute_result"
    }
   ],
   "source": [
    "row = data.sample(1)\n",
    "row.head()"
   ]
  },
  {
   "cell_type": "code",
   "execution_count": 63,
   "metadata": {},
   "outputs": [
    {
     "name": "stdout",
     "output_type": "stream",
     "text": [
      "Cntr ID: 1394285\n",
      "Real result: 1\n",
      "Bad cntr prob: 0.7011288456740132\n",
      "Good cntr prob: 0.29887115432598677\n",
      "Pred class: 0\n"
     ]
    }
   ],
   "source": [
    "predict_probalistic(row)"
   ]
  },
  {
   "cell_type": "code",
   "execution_count": 64,
   "metadata": {},
   "outputs": [
    {
     "data": {
      "text/html": [
       "<div>\n",
       "<style>\n",
       "    .dataframe thead tr:only-child th {\n",
       "        text-align: right;\n",
       "    }\n",
       "\n",
       "    .dataframe thead th {\n",
       "        text-align: left;\n",
       "    }\n",
       "\n",
       "    .dataframe tbody tr th {\n",
       "        vertical-align: top;\n",
       "    }\n",
       "</style>\n",
       "<table border=\"1\" class=\"dataframe\">\n",
       "  <thead>\n",
       "    <tr style=\"text-align: right;\">\n",
       "      <th></th>\n",
       "      <th>cntrID</th>\n",
       "      <th>org_cntr_num</th>\n",
       "      <th>org_1s_sev</th>\n",
       "      <th>org_1s_sup_sev</th>\n",
       "      <th>sup_cntr_num</th>\n",
       "      <th>sup_cntr_avg_price</th>\n",
       "      <th>sup_cntr_avg_penalty</th>\n",
       "      <th>sup_no_pnl_share</th>\n",
       "      <th>sup_okpd_exp</th>\n",
       "      <th>sup_1s_sev</th>\n",
       "      <th>sup_1s_org_sev</th>\n",
       "      <th>sup_sim_price</th>\n",
       "      <th>price_higher_pmp</th>\n",
       "      <th>price_too_low</th>\n",
       "      <th>cntr_result</th>\n",
       "    </tr>\n",
       "  </thead>\n",
       "  <tbody>\n",
       "    <tr>\n",
       "      <th>1256</th>\n",
       "      <td>1394752</td>\n",
       "      <td>509</td>\n",
       "      <td>0.0</td>\n",
       "      <td>0.0</td>\n",
       "      <td>3</td>\n",
       "      <td>57333.0</td>\n",
       "      <td>0.0</td>\n",
       "      <td>1.0</td>\n",
       "      <td>1.0</td>\n",
       "      <td>0</td>\n",
       "      <td>0.0</td>\n",
       "      <td>0.33333</td>\n",
       "      <td>0</td>\n",
       "      <td>0</td>\n",
       "      <td>1</td>\n",
       "    </tr>\n",
       "  </tbody>\n",
       "</table>\n",
       "</div>"
      ],
      "text/plain": [
       "       cntrID  org_cntr_num  org_1s_sev  org_1s_sup_sev  sup_cntr_num  \\\n",
       "1256  1394752           509         0.0             0.0             3   \n",
       "\n",
       "      sup_cntr_avg_price  sup_cntr_avg_penalty  sup_no_pnl_share  \\\n",
       "1256             57333.0                   0.0               1.0   \n",
       "\n",
       "      sup_okpd_exp  sup_1s_sev  sup_1s_org_sev  sup_sim_price  \\\n",
       "1256           1.0           0             0.0        0.33333   \n",
       "\n",
       "      price_higher_pmp  price_too_low  cntr_result  \n",
       "1256                 0              0            1  "
      ]
     },
     "execution_count": 64,
     "metadata": {},
     "output_type": "execute_result"
    }
   ],
   "source": [
    "row = data.sample(1)\n",
    "row.head()"
   ]
  },
  {
   "cell_type": "code",
   "execution_count": 65,
   "metadata": {},
   "outputs": [
    {
     "name": "stdout",
     "output_type": "stream",
     "text": [
      "Cntr ID: 1394752\n",
      "Real result: 1\n",
      "Bad cntr prob: 0.7011288456740132\n",
      "Good cntr prob: 0.29887115432598677\n",
      "Pred class: 0\n"
     ]
    }
   ],
   "source": [
    "predict_probalistic(row)"
   ]
  },
  {
   "cell_type": "code",
   "execution_count": 66,
   "metadata": {},
   "outputs": [
    {
     "data": {
      "text/html": [
       "<div>\n",
       "<style>\n",
       "    .dataframe thead tr:only-child th {\n",
       "        text-align: right;\n",
       "    }\n",
       "\n",
       "    .dataframe thead th {\n",
       "        text-align: left;\n",
       "    }\n",
       "\n",
       "    .dataframe tbody tr th {\n",
       "        vertical-align: top;\n",
       "    }\n",
       "</style>\n",
       "<table border=\"1\" class=\"dataframe\">\n",
       "  <thead>\n",
       "    <tr style=\"text-align: right;\">\n",
       "      <th></th>\n",
       "      <th>cntrID</th>\n",
       "      <th>org_cntr_num</th>\n",
       "      <th>org_1s_sev</th>\n",
       "      <th>org_1s_sup_sev</th>\n",
       "      <th>sup_cntr_num</th>\n",
       "      <th>sup_cntr_avg_price</th>\n",
       "      <th>sup_cntr_avg_penalty</th>\n",
       "      <th>sup_no_pnl_share</th>\n",
       "      <th>sup_okpd_exp</th>\n",
       "      <th>sup_1s_sev</th>\n",
       "      <th>sup_1s_org_sev</th>\n",
       "      <th>sup_sim_price</th>\n",
       "      <th>price_higher_pmp</th>\n",
       "      <th>price_too_low</th>\n",
       "      <th>cntr_result</th>\n",
       "    </tr>\n",
       "  </thead>\n",
       "  <tbody>\n",
       "    <tr>\n",
       "      <th>3270</th>\n",
       "      <td>1400359</td>\n",
       "      <td>1732</td>\n",
       "      <td>0.0</td>\n",
       "      <td>0.0</td>\n",
       "      <td>6</td>\n",
       "      <td>288994.0</td>\n",
       "      <td>0.0</td>\n",
       "      <td>1.0</td>\n",
       "      <td>1.0</td>\n",
       "      <td>0</td>\n",
       "      <td>0.0</td>\n",
       "      <td>0.33333</td>\n",
       "      <td>0</td>\n",
       "      <td>1</td>\n",
       "      <td>1</td>\n",
       "    </tr>\n",
       "  </tbody>\n",
       "</table>\n",
       "</div>"
      ],
      "text/plain": [
       "       cntrID  org_cntr_num  org_1s_sev  org_1s_sup_sev  sup_cntr_num  \\\n",
       "3270  1400359          1732         0.0             0.0             6   \n",
       "\n",
       "      sup_cntr_avg_price  sup_cntr_avg_penalty  sup_no_pnl_share  \\\n",
       "3270            288994.0                   0.0               1.0   \n",
       "\n",
       "      sup_okpd_exp  sup_1s_sev  sup_1s_org_sev  sup_sim_price  \\\n",
       "3270           1.0           0             0.0        0.33333   \n",
       "\n",
       "      price_higher_pmp  price_too_low  cntr_result  \n",
       "3270                 0              1            1  "
      ]
     },
     "execution_count": 66,
     "metadata": {},
     "output_type": "execute_result"
    }
   ],
   "source": [
    "row = data.sample(1)\n",
    "row.head()"
   ]
  },
  {
   "cell_type": "code",
   "execution_count": 67,
   "metadata": {},
   "outputs": [
    {
     "name": "stdout",
     "output_type": "stream",
     "text": [
      "Cntr ID: 1400359\n",
      "Real result: 1\n",
      "Bad cntr prob: 0.7011288456740132\n",
      "Good cntr prob: 0.29887115432598677\n",
      "Pred class: 0\n"
     ]
    }
   ],
   "source": [
    "predict_probalistic(row)"
   ]
  },
  {
   "cell_type": "code",
   "execution_count": 36,
   "metadata": {},
   "outputs": [],
   "source": [
    "res = pd.DataFrame({'result': y_test_real}).join(\n",
    "    pd.DataFrame({'proba_pred': y_test_pred_proba[:,0]}).join(\n",
    "        pd.DataFrame({'pred': y_test_pred})\n",
    "    )\n",
    ")"
   ]
  },
  {
   "cell_type": "code",
   "execution_count": 37,
   "metadata": {},
   "outputs": [
    {
     "data": {
      "text/html": [
       "<div>\n",
       "<style>\n",
       "    .dataframe thead tr:only-child th {\n",
       "        text-align: right;\n",
       "    }\n",
       "\n",
       "    .dataframe thead th {\n",
       "        text-align: left;\n",
       "    }\n",
       "\n",
       "    .dataframe tbody tr th {\n",
       "        vertical-align: top;\n",
       "    }\n",
       "</style>\n",
       "<table border=\"1\" class=\"dataframe\">\n",
       "  <thead>\n",
       "    <tr style=\"text-align: right;\">\n",
       "      <th></th>\n",
       "      <th>result</th>\n",
       "      <th>proba_pred</th>\n",
       "      <th>pred</th>\n",
       "    </tr>\n",
       "  </thead>\n",
       "  <tbody>\n",
       "    <tr>\n",
       "      <th>result</th>\n",
       "      <td>1.000000</td>\n",
       "      <td>-0.402965</td>\n",
       "      <td>0.467341</td>\n",
       "    </tr>\n",
       "    <tr>\n",
       "      <th>proba_pred</th>\n",
       "      <td>-0.402965</td>\n",
       "      <td>1.000000</td>\n",
       "      <td>-0.921953</td>\n",
       "    </tr>\n",
       "    <tr>\n",
       "      <th>pred</th>\n",
       "      <td>0.467341</td>\n",
       "      <td>-0.921953</td>\n",
       "      <td>1.000000</td>\n",
       "    </tr>\n",
       "  </tbody>\n",
       "</table>\n",
       "</div>"
      ],
      "text/plain": [
       "              result  proba_pred      pred\n",
       "result      1.000000   -0.402965  0.467341\n",
       "proba_pred -0.402965    1.000000 -0.921953\n",
       "pred        0.467341   -0.921953  1.000000"
      ]
     },
     "execution_count": 37,
     "metadata": {},
     "output_type": "execute_result"
    }
   ],
   "source": [
    "res.corr()"
   ]
  },
  {
   "cell_type": "code",
   "execution_count": 42,
   "metadata": {
    "scrolled": true
   },
   "outputs": [
    {
     "data": {
      "image/png": "[encoded data removed]",
      "text/plain": [
       "<matplotlib.figure.Figure at 0x1a19abbf60>"
      ]
     },
     "metadata": {},
     "output_type": "display_data"
    }
   ],
   "source": [
    "plot_confusion_matrix(res.corr(), res.columns)"
   ]
  }
 ],
 "metadata": {
  "kernelspec": {
   "display_name": "Python 3",
   "language": "python",
   "name": "python3"
  },
  "language_info": {
   "codemirror_mode": {
    "name": "ipython",
    "version": 3
   },
   "file_extension": ".py",
   "mimetype": "text/x-python",
   "name": "python",
   "nbconvert_exporter": "python",
   "pygments_lexer": "ipython3",
   "version": "3.6.2"
  }
 },
 "nbformat": 4,
 "nbformat_minor": 2
}
