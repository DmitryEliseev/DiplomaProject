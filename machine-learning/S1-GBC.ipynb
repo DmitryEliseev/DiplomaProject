{
 "cells": [
  {
   "cell_type": "code",
   "execution_count": 1,
   "metadata": {
    "collapsed": true
   },
   "outputs": [],
   "source": [
    "from collections import Counter\n",
    "import itertools\n",
    "\n",
    "import pandas as pd\n",
    "import numpy as np\n",
    "\n",
    "from sklearn.preprocessing import StandardScaler\n",
    "from sklearn.metrics import accuracy_score, log_loss\n",
    "from sklearn.metrics import classification_report, confusion_matrix\n",
    "from sklearn.metrics import roc_curve, auc\n",
    "from sklearn.model_selection import train_test_split, KFold\n",
    "from sklearn.ensemble import GradientBoostingClassifier\n",
    "\n",
    "import seaborn as sb\n",
    "\n",
    "from matplotlib.ticker import MultipleLocator\n",
    "import matplotlib.pyplot as plt\n",
    "%matplotlib inline"
   ]
  },
  {
   "cell_type": "code",
   "execution_count": 2,
   "metadata": {},
   "outputs": [
    {
     "name": "stdout",
     "output_type": "stream",
     "text": [
      "(11926, 15)\n"
     ]
    }
   ],
   "source": [
    "# Считывание хороших и плохих контрактов\n",
    "bad_cntr = pd.read_csv('../data/yarobl_bad_contracts_plus.csv')\n",
    "good_cntr = pd.read_csv('../data/yaroblmz_good_contracts.csv')\n",
    "data = bad_cntr.append(good_cntr)\n",
    "print(data.shape)\n",
    "\n",
    "# Сокращение количества хороших контрактов до числа имеющихся плохих\n",
    "# data = good_cntr.append(bad_cntr.iloc[:good_cntr.shape[0],:])\n",
    "# print(data.shape)"
   ]
  },
  {
   "cell_type": "code",
   "execution_count": 3,
   "metadata": {},
   "outputs": [
    {
     "data": {
      "text/html": [
       "<div>\n",
       "<style>\n",
       "    .dataframe thead tr:only-child th {\n",
       "        text-align: right;\n",
       "    }\n",
       "\n",
       "    .dataframe thead th {\n",
       "        text-align: left;\n",
       "    }\n",
       "\n",
       "    .dataframe tbody tr th {\n",
       "        vertical-align: top;\n",
       "    }\n",
       "</style>\n",
       "<table border=\"1\" class=\"dataframe\">\n",
       "  <thead>\n",
       "    <tr style=\"text-align: right;\">\n",
       "      <th></th>\n",
       "      <th>cntrID</th>\n",
       "      <th>org_cntr_num</th>\n",
       "      <th>org_1s_sev</th>\n",
       "      <th>org_1s_sup_sev</th>\n",
       "      <th>sup_cntr_num</th>\n",
       "      <th>sup_cntr_avg_price</th>\n",
       "      <th>sup_cntr_avg_penalty</th>\n",
       "      <th>sup_no_pnl_share</th>\n",
       "      <th>sup_okpd_exp</th>\n",
       "      <th>sup_1s_sev</th>\n",
       "      <th>sup_1s_org_sev</th>\n",
       "      <th>sup_sim_price</th>\n",
       "      <th>price_higher_pmp</th>\n",
       "      <th>price_too_low</th>\n",
       "      <th>cntr_result</th>\n",
       "    </tr>\n",
       "  </thead>\n",
       "  <tbody>\n",
       "    <tr>\n",
       "      <th>0</th>\n",
       "      <td>1573678</td>\n",
       "      <td>871</td>\n",
       "      <td>0.0</td>\n",
       "      <td>0.0</td>\n",
       "      <td>2</td>\n",
       "      <td>189491.0</td>\n",
       "      <td>0.0</td>\n",
       "      <td>1.0</td>\n",
       "      <td>0.50000</td>\n",
       "      <td>0</td>\n",
       "      <td>0.0</td>\n",
       "      <td>0.50000</td>\n",
       "      <td>0</td>\n",
       "      <td>0</td>\n",
       "      <td>0</td>\n",
       "    </tr>\n",
       "    <tr>\n",
       "      <th>1</th>\n",
       "      <td>1505114</td>\n",
       "      <td>188</td>\n",
       "      <td>0.0</td>\n",
       "      <td>0.0</td>\n",
       "      <td>22</td>\n",
       "      <td>267789.0</td>\n",
       "      <td>0.0</td>\n",
       "      <td>1.0</td>\n",
       "      <td>1.00000</td>\n",
       "      <td>0</td>\n",
       "      <td>0.0</td>\n",
       "      <td>0.09091</td>\n",
       "      <td>0</td>\n",
       "      <td>0</td>\n",
       "      <td>0</td>\n",
       "    </tr>\n",
       "    <tr>\n",
       "      <th>2</th>\n",
       "      <td>1516375</td>\n",
       "      <td>199</td>\n",
       "      <td>0.0</td>\n",
       "      <td>0.0</td>\n",
       "      <td>5</td>\n",
       "      <td>386494.0</td>\n",
       "      <td>0.0</td>\n",
       "      <td>1.0</td>\n",
       "      <td>1.00000</td>\n",
       "      <td>0</td>\n",
       "      <td>0.0</td>\n",
       "      <td>0.20000</td>\n",
       "      <td>0</td>\n",
       "      <td>0</td>\n",
       "      <td>0</td>\n",
       "    </tr>\n",
       "    <tr>\n",
       "      <th>3</th>\n",
       "      <td>1603679</td>\n",
       "      <td>52</td>\n",
       "      <td>0.0</td>\n",
       "      <td>0.0</td>\n",
       "      <td>43</td>\n",
       "      <td>272642.0</td>\n",
       "      <td>0.0</td>\n",
       "      <td>1.0</td>\n",
       "      <td>0.18605</td>\n",
       "      <td>0</td>\n",
       "      <td>0.0</td>\n",
       "      <td>0.04651</td>\n",
       "      <td>0</td>\n",
       "      <td>0</td>\n",
       "      <td>0</td>\n",
       "    </tr>\n",
       "    <tr>\n",
       "      <th>4</th>\n",
       "      <td>1511046</td>\n",
       "      <td>569</td>\n",
       "      <td>0.0</td>\n",
       "      <td>0.0</td>\n",
       "      <td>47</td>\n",
       "      <td>487732.0</td>\n",
       "      <td>0.0</td>\n",
       "      <td>1.0</td>\n",
       "      <td>0.61702</td>\n",
       "      <td>0</td>\n",
       "      <td>0.0</td>\n",
       "      <td>0.02128</td>\n",
       "      <td>0</td>\n",
       "      <td>1</td>\n",
       "      <td>0</td>\n",
       "    </tr>\n",
       "  </tbody>\n",
       "</table>\n",
       "</div>"
      ],
      "text/plain": [
       "    cntrID  org_cntr_num  org_1s_sev  org_1s_sup_sev  sup_cntr_num  \\\n",
       "0  1573678           871         0.0             0.0             2   \n",
       "1  1505114           188         0.0             0.0            22   \n",
       "2  1516375           199         0.0             0.0             5   \n",
       "3  1603679            52         0.0             0.0            43   \n",
       "4  1511046           569         0.0             0.0            47   \n",
       "\n",
       "   sup_cntr_avg_price  sup_cntr_avg_penalty  sup_no_pnl_share  sup_okpd_exp  \\\n",
       "0            189491.0                   0.0               1.0       0.50000   \n",
       "1            267789.0                   0.0               1.0       1.00000   \n",
       "2            386494.0                   0.0               1.0       1.00000   \n",
       "3            272642.0                   0.0               1.0       0.18605   \n",
       "4            487732.0                   0.0               1.0       0.61702   \n",
       "\n",
       "   sup_1s_sev  sup_1s_org_sev  sup_sim_price  price_higher_pmp  price_too_low  \\\n",
       "0           0             0.0        0.50000                 0              0   \n",
       "1           0             0.0        0.09091                 0              0   \n",
       "2           0             0.0        0.20000                 0              0   \n",
       "3           0             0.0        0.04651                 0              0   \n",
       "4           0             0.0        0.02128                 0              1   \n",
       "\n",
       "   cntr_result  \n",
       "0            0  \n",
       "1            0  \n",
       "2            0  \n",
       "3            0  \n",
       "4            0  "
      ]
     },
     "execution_count": 3,
     "metadata": {},
     "output_type": "execute_result"
    }
   ],
   "source": [
    "data.head(5)"
   ]
  },
  {
   "cell_type": "code",
   "execution_count": 4,
   "metadata": {
    "collapsed": true
   },
   "outputs": [],
   "source": [
    "# Удаление строк, в которых есть значение NULL\n",
    "data = data.dropna()"
   ]
  },
  {
   "cell_type": "code",
   "execution_count": 5,
   "metadata": {
    "collapsed": true
   },
   "outputs": [],
   "source": [
    "# Разбитие датасета на набор описывающих признаков (X) \n",
    "# и соответствущих им предсказываемых величин (у)\n",
    "X = data.iloc[:,1:-1]\n",
    "y = data.cntr_result.values"
   ]
  },
  {
   "cell_type": "code",
   "execution_count": 6,
   "metadata": {
    "collapsed": true
   },
   "outputs": [],
   "source": [
    "# Предобработка данных\n",
    "# Медиана = 1, квадратичное отклонени = 0\n",
    "scaler = StandardScaler()\n",
    "columns_to_normalize = ['org_cntr_num', 'sup_cntr_num', 'sup_cntr_avg_price']\n",
    "X.loc[:, columns_to_normalize] = scaler.fit_transform(X.loc[:, columns_to_normalize])\n",
    "X = X.values"
   ]
  },
  {
   "cell_type": "code",
   "execution_count": 7,
   "metadata": {
    "collapsed": true
   },
   "outputs": [],
   "source": [
    "y_train_real = np.array([])\n",
    "y_test_real = np.array([])\n",
    "\n",
    "y_train_pred = np.array([])\n",
    "y_test_pred = np.array([])\n",
    "y_test_pred_proba = np.zeros((0, 2))"
   ]
  },
  {
   "cell_type": "code",
   "execution_count": 8,
   "metadata": {
    "collapsed": true
   },
   "outputs": [],
   "source": [
    "classifier = GradientBoostingClassifier()"
   ]
  },
  {
   "cell_type": "code",
   "execution_count": 9,
   "metadata": {
    "collapsed": true
   },
   "outputs": [],
   "source": [
    "for train_index, test_index in KFold(n_splits=10).split(X):\n",
    "    X_train = X[train_index]\n",
    "    X_test = X[test_index]\n",
    "    \n",
    "    y_train = y[train_index]\n",
    "    y_test = y[test_index]\n",
    "    \n",
    "    classifier.fit(X_train, y_train)\n",
    "    \n",
    "    y_train_real = np.concatenate((y_train_real, y_train))\n",
    "    y_test_real = np.concatenate((y_test_real, y_test))\n",
    "    \n",
    "    y_train_pred = np.concatenate((y_train_pred, classifier.predict(X_train)))\n",
    "    y_test_pred = np.concatenate((y_test_pred, classifier.predict(X_test)))\n",
    "    y_test_pred_proba = np.concatenate((y_test_pred_proba, classifier.predict_proba(X_test))) "
   ]
  },
  {
   "cell_type": "code",
   "execution_count": 10,
   "metadata": {},
   "outputs": [
    {
     "name": "stdout",
     "output_type": "stream",
     "text": [
      "Точность 0.794628973941 на обучающей выборке\n",
      "Точность 0.757460799191 на тестовой выборке\n",
      "Потеря перекрестной энтропии 0.518208616622\n"
     ]
    }
   ],
   "source": [
    "print('Точность %s на обучающей выборке' % accuracy_score(y_train_real, y_train_pred))\n",
    "print('Точность %s на тестовой выборке' % accuracy_score(y_test_real, y_test_pred))\n",
    "print('Потеря перекрестной энтропии %s' % log_loss(y_test_real[:len(y_test_pred_proba)], y_test_pred_proba))"
   ]
  },
  {
   "cell_type": "code",
   "execution_count": 11,
   "metadata": {},
   "outputs": [
    {
     "name": "stdout",
     "output_type": "stream",
     "text": [
      "             precision    recall  f1-score   support\n",
      "\n",
      "     Плохой       0.89      0.59      0.71      5926\n",
      "    Хороший       0.69      0.93      0.79      5936\n",
      "\n",
      "avg / total       0.79      0.76      0.75     11862\n",
      "\n"
     ]
    }
   ],
   "source": [
    "print(classification_report(y_test_real, y_test_pred, target_names=('Плохой', 'Хороший')))"
   ]
  },
  {
   "cell_type": "code",
   "execution_count": 12,
   "metadata": {
    "collapsed": true
   },
   "outputs": [],
   "source": [
    "res = pd.DataFrame({'result': y_test_real}).join(\n",
    "    pd.DataFrame({'proba_pred': y_test_pred_proba[:,0]}).join(\n",
    "        pd.DataFrame({'pred': y_test_pred})\n",
    "    )\n",
    ")"
   ]
  },
  {
   "cell_type": "code",
   "execution_count": 13,
   "metadata": {},
   "outputs": [
    {
     "data": {
      "text/html": [
       "<div>\n",
       "<style>\n",
       "    .dataframe thead tr:only-child th {\n",
       "        text-align: right;\n",
       "    }\n",
       "\n",
       "    .dataframe thead th {\n",
       "        text-align: left;\n",
       "    }\n",
       "\n",
       "    .dataframe tbody tr th {\n",
       "        vertical-align: top;\n",
       "    }\n",
       "</style>\n",
       "<table border=\"1\" class=\"dataframe\">\n",
       "  <thead>\n",
       "    <tr style=\"text-align: right;\">\n",
       "      <th></th>\n",
       "      <th>result</th>\n",
       "      <th>proba_pred</th>\n",
       "      <th>pred</th>\n",
       "    </tr>\n",
       "  </thead>\n",
       "  <tbody>\n",
       "    <tr>\n",
       "      <th>result</th>\n",
       "      <td>1.000000</td>\n",
       "      <td>-0.536476</td>\n",
       "      <td>0.546936</td>\n",
       "    </tr>\n",
       "    <tr>\n",
       "      <th>proba_pred</th>\n",
       "      <td>-0.536476</td>\n",
       "      <td>1.000000</td>\n",
       "      <td>-0.919848</td>\n",
       "    </tr>\n",
       "    <tr>\n",
       "      <th>pred</th>\n",
       "      <td>0.546936</td>\n",
       "      <td>-0.919848</td>\n",
       "      <td>1.000000</td>\n",
       "    </tr>\n",
       "  </tbody>\n",
       "</table>\n",
       "</div>"
      ],
      "text/plain": [
       "              result  proba_pred      pred\n",
       "result      1.000000   -0.536476  0.546936\n",
       "proba_pred -0.536476    1.000000 -0.919848\n",
       "pred        0.546936   -0.919848  1.000000"
      ]
     },
     "execution_count": 13,
     "metadata": {},
     "output_type": "execute_result"
    }
   ],
   "source": [
    "res.corr()"
   ]
  },
  {
   "cell_type": "code",
   "execution_count": 14,
   "metadata": {
    "collapsed": true
   },
   "outputs": [],
   "source": [
    "def plot_confusion_matrix(\n",
    "    cm, classes, normalize=False, title='Confusion matrix', cmap=plt.cm.Blues\n",
    "):\n",
    "   \n",
    "    if normalize:\n",
    "        cm = cm.astype('float') / cm.sum(axis=1)[:, np.newaxis]\n",
    "\n",
    "    plt.imshow(cm, interpolation='nearest', cmap=cmap)\n",
    "    plt.title(title)\n",
    "    plt.colorbar()\n",
    "    tick_marks = np.arange(len(classes))\n",
    "    plt.xticks(tick_marks, classes)\n",
    "    plt.yticks(tick_marks, classes)\n",
    "\n",
    "    fmt = '.2f' if normalize else 'd'\n",
    "    thresh = cm.max() / 2.\n",
    "    for i, j in itertools.product(range(cm.shape[0]), range(cm.shape[1])):\n",
    "        plt.text(j, i, format(cm[i, j], fmt),\n",
    "                 horizontalalignment=\"center\",\n",
    "                 color=\"white\" if cm[i, j] > thresh else \"black\")\n",
    "\n",
    "    plt.tight_layout()\n",
    "    plt.ylabel('True label')\n",
    "    plt.xlabel('Predicted label')"
   ]
  },
  {
   "cell_type": "code",
   "execution_count": 15,
   "metadata": {},
   "outputs": [
    {
     "data": {
      "image/png": "[encoded data removed]",
      "text/plain": [
       "<matplotlib.figure.Figure at 0x1a0a1eaf60>"
      ]
     },
     "metadata": {},
     "output_type": "display_data"
    }
   ],
   "source": [
    "plot_confusion_matrix(\n",
    "    confusion_matrix(y_test_real, y_test_pred), \n",
    "    classes=classifier.classes_, \n",
    "#     normalize=True,\n",
    "    title='Confusion matrix, without normalization'\n",
    ")"
   ]
  },
  {
   "cell_type": "code",
   "execution_count": 16,
   "metadata": {
    "collapsed": true
   },
   "outputs": [],
   "source": [
    "counter0 = Counter() # счетчик плохих контрактов\n",
    "counter1 = Counter() # счетчик хороших контрактов\n",
    "\n",
    "for index, row in res.iterrows():\n",
    "    proba = round(row['proba_pred'], 2)\n",
    "    \n",
    "    if not row['result']:\n",
    "        counter0[proba] += 1\n",
    "    else:\n",
    "        counter1[proba] += 1"
   ]
  },
  {
   "cell_type": "code",
   "execution_count": 17,
   "metadata": {
    "collapsed": true
   },
   "outputs": [],
   "source": [
    "corr_df0 = pd.DataFrame.from_dict(counter0, orient='index').reset_index().sort_values(['index'])\n",
    "corr_df1 = pd.DataFrame.from_dict(counter1, orient='index').reset_index().sort_values(['index'])"
   ]
  },
  {
   "cell_type": "code",
   "execution_count": 18,
   "metadata": {},
   "outputs": [
    {
     "data": {
      "image/png": "[encoded data removed]",
      "text/plain": [
       "<matplotlib.figure.Figure at 0x106dea128>"
      ]
     },
     "metadata": {},
     "output_type": "display_data"
    }
   ],
   "source": [
    "fig = plt.figure(figsize=(10,5))\n",
    "ax = fig.add_subplot(111)\n",
    "\n",
    "ax.plot(corr_df0['index'], corr_df0[0])\n",
    "ax.plot(corr_df1['index'], corr_df1[0])\n",
    "\n",
    "plt.legend(['Плохие контракты', 'Хорошие контракты'], loc='upper left')\n",
    "plt.xlabel('Предсказываемая вероятность плохого исхода')\n",
    "plt.ylabel('Реальное количество контрактов')\n",
    "plt.title('Корреляция proba_pred_bad и result')\n",
    "plt.show()"
   ]
  },
  {
   "cell_type": "code",
   "execution_count": 19,
   "metadata": {},
   "outputs": [
    {
     "data": {
      "image/png": "[encoded data removed]",
      "text/plain": [
       "<matplotlib.figure.Figure at 0x106edf9e8>"
      ]
     },
     "metadata": {},
     "output_type": "display_data"
    }
   ],
   "source": [
    "fpr, tpr, threshold = roc_curve(y_test_real, y_test_pred)\n",
    "roc_auc = auc(fpr, tpr)\n",
    "\n",
    "plt.title('ROC')\n",
    "plt.plot(fpr, tpr, 'b', label='AUC = %0.2f' % roc_auc)\n",
    "plt.plot([0, 1], [0, 1],'r--', label='Удача')\n",
    "plt.legend(loc='lower right')\n",
    "plt.xlim([0, 1])\n",
    "plt.ylim([0, 1])\n",
    "plt.ylabel('True Positive Rate')\n",
    "plt.xlabel('False Positive Rate')\n",
    "plt.show()"
   ]
  }
 ],
 "metadata": {
  "kernelspec": {
   "display_name": "Python 3",
   "language": "python",
   "name": "python3"
  },
  "language_info": {
   "codemirror_mode": {
    "name": "ipython",
    "version": 3
   },
   "file_extension": ".py",
   "mimetype": "text/x-python",
   "name": "python",
   "nbconvert_exporter": "python",
   "pygments_lexer": "ipython3",
   "version": "3.6.2"
  }
 },
 "nbformat": 4,
 "nbformat_minor": 2
}
