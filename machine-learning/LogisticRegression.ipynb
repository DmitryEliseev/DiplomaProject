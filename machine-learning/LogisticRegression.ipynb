{
 "cells": [
  {
   "cell_type": "code",
   "execution_count": 167,
   "metadata": {
    "collapsed": true
   },
   "outputs": [],
   "source": [
    "import itertools\n",
    "from collections import Counter\n",
    "\n",
    "import pandas as pd\n",
    "import numpy as np\n",
    "\n",
    "from sklearn.linear_model import LogisticRegression\n",
    "from sklearn.preprocessing import StandardScaler\n",
    "from sklearn.metrics import accuracy_score, log_loss, classification_report, confusion_matrix\n",
    "from sklearn.model_selection import train_test_split, KFold\n",
    "from sklearn.decomposition import PCA\n",
    "from sklearn.cluster import KMeans\n",
    "\n",
    "import seaborn as sb\n",
    "\n",
    "from matplotlib.ticker import MultipleLocator\n",
    "import matplotlib.pyplot as plt\n",
    "%matplotlib inline"
   ]
  },
  {
   "cell_type": "code",
   "execution_count": 168,
   "metadata": {},
   "outputs": [
    {
     "name": "stdout",
     "output_type": "stream",
     "text": [
      "(11926, 15)\n"
     ]
    }
   ],
   "source": [
    "# Считывание хороших и плохих контрактов\n",
    "bad_cntr = pd.read_csv('yarobl_bad_contracts_plus.csv')\n",
    "good_cntr = pd.read_csv('yaroblmz_good_contracts.csv')\n",
    "data = bad_cntr.append(good_cntr)\n",
    "print(data.shape)\n",
    "\n",
    "# Сокращение количества хороших контрактов до числа имеющихся плохих\n",
    "# data = good_cntr.append(bad_cntr.iloc[:good_cntr.shape[0],:])\n",
    "# print(data.shape)"
   ]
  },
  {
   "cell_type": "code",
   "execution_count": 169,
   "metadata": {},
   "outputs": [
    {
     "data": {
      "text/html": [
       "<div>\n",
       "<style>\n",
       "    .dataframe thead tr:only-child th {\n",
       "        text-align: right;\n",
       "    }\n",
       "\n",
       "    .dataframe thead th {\n",
       "        text-align: left;\n",
       "    }\n",
       "\n",
       "    .dataframe tbody tr th {\n",
       "        vertical-align: top;\n",
       "    }\n",
       "</style>\n",
       "<table border=\"1\" class=\"dataframe\">\n",
       "  <thead>\n",
       "    <tr style=\"text-align: right;\">\n",
       "      <th></th>\n",
       "      <th>cntrID</th>\n",
       "      <th>org_cntr_num</th>\n",
       "      <th>org_1s_sev</th>\n",
       "      <th>org_1s_sup_sev</th>\n",
       "      <th>sup_cntr_num</th>\n",
       "      <th>sup_cntr_avg_price</th>\n",
       "      <th>sup_cntr_avg_penalty</th>\n",
       "      <th>sup_no_pnl_share</th>\n",
       "      <th>sup_okpd_exp</th>\n",
       "      <th>sup_1s_sev</th>\n",
       "      <th>sup_1s_org_sev</th>\n",
       "      <th>sup_sim_price</th>\n",
       "      <th>price_higher_pmp</th>\n",
       "      <th>price_too_low</th>\n",
       "      <th>cntr_result</th>\n",
       "    </tr>\n",
       "  </thead>\n",
       "  <tbody>\n",
       "    <tr>\n",
       "      <th>0</th>\n",
       "      <td>1573678</td>\n",
       "      <td>871</td>\n",
       "      <td>0.0</td>\n",
       "      <td>0.0</td>\n",
       "      <td>2</td>\n",
       "      <td>189491.0</td>\n",
       "      <td>0.0</td>\n",
       "      <td>1.0</td>\n",
       "      <td>0.50000</td>\n",
       "      <td>0</td>\n",
       "      <td>0.0</td>\n",
       "      <td>0.50000</td>\n",
       "      <td>0</td>\n",
       "      <td>0</td>\n",
       "      <td>0</td>\n",
       "    </tr>\n",
       "    <tr>\n",
       "      <th>1</th>\n",
       "      <td>1505114</td>\n",
       "      <td>188</td>\n",
       "      <td>0.0</td>\n",
       "      <td>0.0</td>\n",
       "      <td>22</td>\n",
       "      <td>267789.0</td>\n",
       "      <td>0.0</td>\n",
       "      <td>1.0</td>\n",
       "      <td>1.00000</td>\n",
       "      <td>0</td>\n",
       "      <td>0.0</td>\n",
       "      <td>0.09091</td>\n",
       "      <td>0</td>\n",
       "      <td>0</td>\n",
       "      <td>0</td>\n",
       "    </tr>\n",
       "    <tr>\n",
       "      <th>2</th>\n",
       "      <td>1516375</td>\n",
       "      <td>199</td>\n",
       "      <td>0.0</td>\n",
       "      <td>0.0</td>\n",
       "      <td>5</td>\n",
       "      <td>386494.0</td>\n",
       "      <td>0.0</td>\n",
       "      <td>1.0</td>\n",
       "      <td>1.00000</td>\n",
       "      <td>0</td>\n",
       "      <td>0.0</td>\n",
       "      <td>0.20000</td>\n",
       "      <td>0</td>\n",
       "      <td>0</td>\n",
       "      <td>0</td>\n",
       "    </tr>\n",
       "    <tr>\n",
       "      <th>3</th>\n",
       "      <td>1603679</td>\n",
       "      <td>52</td>\n",
       "      <td>0.0</td>\n",
       "      <td>0.0</td>\n",
       "      <td>43</td>\n",
       "      <td>272642.0</td>\n",
       "      <td>0.0</td>\n",
       "      <td>1.0</td>\n",
       "      <td>0.18605</td>\n",
       "      <td>0</td>\n",
       "      <td>0.0</td>\n",
       "      <td>0.04651</td>\n",
       "      <td>0</td>\n",
       "      <td>0</td>\n",
       "      <td>0</td>\n",
       "    </tr>\n",
       "    <tr>\n",
       "      <th>4</th>\n",
       "      <td>1511046</td>\n",
       "      <td>569</td>\n",
       "      <td>0.0</td>\n",
       "      <td>0.0</td>\n",
       "      <td>47</td>\n",
       "      <td>487732.0</td>\n",
       "      <td>0.0</td>\n",
       "      <td>1.0</td>\n",
       "      <td>0.61702</td>\n",
       "      <td>0</td>\n",
       "      <td>0.0</td>\n",
       "      <td>0.02128</td>\n",
       "      <td>0</td>\n",
       "      <td>1</td>\n",
       "      <td>0</td>\n",
       "    </tr>\n",
       "  </tbody>\n",
       "</table>\n",
       "</div>"
      ],
      "text/plain": [
       "    cntrID  org_cntr_num  org_1s_sev  org_1s_sup_sev  sup_cntr_num  \\\n",
       "0  1573678           871         0.0             0.0             2   \n",
       "1  1505114           188         0.0             0.0            22   \n",
       "2  1516375           199         0.0             0.0             5   \n",
       "3  1603679            52         0.0             0.0            43   \n",
       "4  1511046           569         0.0             0.0            47   \n",
       "\n",
       "   sup_cntr_avg_price  sup_cntr_avg_penalty  sup_no_pnl_share  sup_okpd_exp  \\\n",
       "0            189491.0                   0.0               1.0       0.50000   \n",
       "1            267789.0                   0.0               1.0       1.00000   \n",
       "2            386494.0                   0.0               1.0       1.00000   \n",
       "3            272642.0                   0.0               1.0       0.18605   \n",
       "4            487732.0                   0.0               1.0       0.61702   \n",
       "\n",
       "   sup_1s_sev  sup_1s_org_sev  sup_sim_price  price_higher_pmp  price_too_low  \\\n",
       "0           0             0.0        0.50000                 0              0   \n",
       "1           0             0.0        0.09091                 0              0   \n",
       "2           0             0.0        0.20000                 0              0   \n",
       "3           0             0.0        0.04651                 0              0   \n",
       "4           0             0.0        0.02128                 0              1   \n",
       "\n",
       "   cntr_result  \n",
       "0            0  \n",
       "1            0  \n",
       "2            0  \n",
       "3            0  \n",
       "4            0  "
      ]
     },
     "execution_count": 169,
     "metadata": {},
     "output_type": "execute_result"
    }
   ],
   "source": [
    "# Первые 5 строк\n",
    "data.head(5)"
   ]
  },
  {
   "cell_type": "code",
   "execution_count": 170,
   "metadata": {
    "collapsed": true
   },
   "outputs": [],
   "source": [
    "# Удаление строк, в которых есть значение NULL\n",
    "data = data.dropna()"
   ]
  },
  {
   "cell_type": "code",
   "execution_count": 171,
   "metadata": {},
   "outputs": [
    {
     "data": {
      "text/plain": [
       "<matplotlib.axes._subplots.AxesSubplot at 0x1a1ee92f28>"
      ]
     },
     "execution_count": 171,
     "metadata": {},
     "output_type": "execute_result"
    },
    {
     "data": {
      "image/png": "[encoded data removed]",
      "text/plain": [
       "<matplotlib.figure.Figure at 0x1a172a9710>"
      ]
     },
     "metadata": {},
     "output_type": "display_data"
    }
   ],
   "source": [
    "# Количество плохих (0) и хороших контрактов (1)\n",
    "sb.countplot(x='cntr_result', data=data, palette='hls')"
   ]
  },
  {
   "cell_type": "code",
   "execution_count": 172,
   "metadata": {
    "collapsed": true
   },
   "outputs": [],
   "source": [
    "# Разбитие датасета на набор описывающих признаков (X) \n",
    "# и соответствущих им предсказываемых величин (у)\n",
    "X = data.iloc[:,1:-1]\n",
    "y = data.cntr_result.values"
   ]
  },
  {
   "cell_type": "code",
   "execution_count": 173,
   "metadata": {},
   "outputs": [
    {
     "data": {
      "text/html": [
       "<div>\n",
       "<style>\n",
       "    .dataframe thead tr:only-child th {\n",
       "        text-align: right;\n",
       "    }\n",
       "\n",
       "    .dataframe thead th {\n",
       "        text-align: left;\n",
       "    }\n",
       "\n",
       "    .dataframe tbody tr th {\n",
       "        vertical-align: top;\n",
       "    }\n",
       "</style>\n",
       "<table border=\"1\" class=\"dataframe\">\n",
       "  <thead>\n",
       "    <tr style=\"text-align: right;\">\n",
       "      <th></th>\n",
       "      <th>org_cntr_num</th>\n",
       "      <th>org_1s_sev</th>\n",
       "      <th>org_1s_sup_sev</th>\n",
       "      <th>sup_cntr_num</th>\n",
       "      <th>sup_cntr_avg_price</th>\n",
       "      <th>sup_cntr_avg_penalty</th>\n",
       "      <th>sup_no_pnl_share</th>\n",
       "      <th>sup_okpd_exp</th>\n",
       "      <th>sup_1s_sev</th>\n",
       "      <th>sup_1s_org_sev</th>\n",
       "      <th>sup_sim_price</th>\n",
       "      <th>price_higher_pmp</th>\n",
       "      <th>price_too_low</th>\n",
       "    </tr>\n",
       "  </thead>\n",
       "  <tbody>\n",
       "    <tr>\n",
       "      <th>count</th>\n",
       "      <td>11862.000000</td>\n",
       "      <td>11862.000000</td>\n",
       "      <td>11862.000000</td>\n",
       "      <td>11862.000000</td>\n",
       "      <td>1.186200e+04</td>\n",
       "      <td>11862.000000</td>\n",
       "      <td>11862.000000</td>\n",
       "      <td>11862.000000</td>\n",
       "      <td>11862.000000</td>\n",
       "      <td>11862.000000</td>\n",
       "      <td>11862.000000</td>\n",
       "      <td>11862.000000</td>\n",
       "      <td>11862.000000</td>\n",
       "    </tr>\n",
       "    <tr>\n",
       "      <th>mean</th>\n",
       "      <td>1013.522762</td>\n",
       "      <td>0.000395</td>\n",
       "      <td>0.000043</td>\n",
       "      <td>52.709492</td>\n",
       "      <td>1.404311e+06</td>\n",
       "      <td>0.000083</td>\n",
       "      <td>0.996570</td>\n",
       "      <td>0.851908</td>\n",
       "      <td>0.000422</td>\n",
       "      <td>0.002482</td>\n",
       "      <td>0.369367</td>\n",
       "      <td>0.053448</td>\n",
       "      <td>0.077980</td>\n",
       "    </tr>\n",
       "    <tr>\n",
       "      <th>std</th>\n",
       "      <td>1468.801179</td>\n",
       "      <td>0.002894</td>\n",
       "      <td>0.000863</td>\n",
       "      <td>108.972630</td>\n",
       "      <td>2.277167e+07</td>\n",
       "      <td>0.002255</td>\n",
       "      <td>0.034587</td>\n",
       "      <td>0.328467</td>\n",
       "      <td>0.020527</td>\n",
       "      <td>0.044228</td>\n",
       "      <td>0.339632</td>\n",
       "      <td>0.224935</td>\n",
       "      <td>0.268152</td>\n",
       "    </tr>\n",
       "    <tr>\n",
       "      <th>min</th>\n",
       "      <td>0.000000</td>\n",
       "      <td>0.000000</td>\n",
       "      <td>0.000000</td>\n",
       "      <td>1.000000</td>\n",
       "      <td>0.000000e+00</td>\n",
       "      <td>0.000000</td>\n",
       "      <td>0.400000</td>\n",
       "      <td>0.000000</td>\n",
       "      <td>0.000000</td>\n",
       "      <td>0.000000</td>\n",
       "      <td>0.000000</td>\n",
       "      <td>0.000000</td>\n",
       "      <td>0.000000</td>\n",
       "    </tr>\n",
       "    <tr>\n",
       "      <th>25%</th>\n",
       "      <td>85.000000</td>\n",
       "      <td>0.000000</td>\n",
       "      <td>0.000000</td>\n",
       "      <td>2.000000</td>\n",
       "      <td>1.329270e+05</td>\n",
       "      <td>0.000000</td>\n",
       "      <td>1.000000</td>\n",
       "      <td>0.980320</td>\n",
       "      <td>0.000000</td>\n",
       "      <td>0.000000</td>\n",
       "      <td>0.111110</td>\n",
       "      <td>0.000000</td>\n",
       "      <td>0.000000</td>\n",
       "    </tr>\n",
       "    <tr>\n",
       "      <th>50%</th>\n",
       "      <td>396.000000</td>\n",
       "      <td>0.000000</td>\n",
       "      <td>0.000000</td>\n",
       "      <td>12.000000</td>\n",
       "      <td>2.191050e+05</td>\n",
       "      <td>0.000000</td>\n",
       "      <td>1.000000</td>\n",
       "      <td>1.000000</td>\n",
       "      <td>0.000000</td>\n",
       "      <td>0.000000</td>\n",
       "      <td>0.217390</td>\n",
       "      <td>0.000000</td>\n",
       "      <td>0.000000</td>\n",
       "    </tr>\n",
       "    <tr>\n",
       "      <th>75%</th>\n",
       "      <td>1260.000000</td>\n",
       "      <td>0.000000</td>\n",
       "      <td>0.000000</td>\n",
       "      <td>52.000000</td>\n",
       "      <td>4.259550e+05</td>\n",
       "      <td>0.000000</td>\n",
       "      <td>1.000000</td>\n",
       "      <td>1.000000</td>\n",
       "      <td>0.000000</td>\n",
       "      <td>0.000000</td>\n",
       "      <td>0.500000</td>\n",
       "      <td>0.000000</td>\n",
       "      <td>0.000000</td>\n",
       "    </tr>\n",
       "    <tr>\n",
       "      <th>max</th>\n",
       "      <td>6408.000000</td>\n",
       "      <td>0.076920</td>\n",
       "      <td>0.047620</td>\n",
       "      <td>1849.000000</td>\n",
       "      <td>1.303496e+09</td>\n",
       "      <td>0.120910</td>\n",
       "      <td>1.000000</td>\n",
       "      <td>10.000000</td>\n",
       "      <td>1.000000</td>\n",
       "      <td>1.000000</td>\n",
       "      <td>1.000000</td>\n",
       "      <td>1.000000</td>\n",
       "      <td>1.000000</td>\n",
       "    </tr>\n",
       "  </tbody>\n",
       "</table>\n",
       "</div>"
      ],
      "text/plain": [
       "       org_cntr_num    org_1s_sev  org_1s_sup_sev  sup_cntr_num  \\\n",
       "count  11862.000000  11862.000000    11862.000000  11862.000000   \n",
       "mean    1013.522762      0.000395        0.000043     52.709492   \n",
       "std     1468.801179      0.002894        0.000863    108.972630   \n",
       "min        0.000000      0.000000        0.000000      1.000000   \n",
       "25%       85.000000      0.000000        0.000000      2.000000   \n",
       "50%      396.000000      0.000000        0.000000     12.000000   \n",
       "75%     1260.000000      0.000000        0.000000     52.000000   \n",
       "max     6408.000000      0.076920        0.047620   1849.000000   \n",
       "\n",
       "       sup_cntr_avg_price  sup_cntr_avg_penalty  sup_no_pnl_share  \\\n",
       "count        1.186200e+04          11862.000000      11862.000000   \n",
       "mean         1.404311e+06              0.000083          0.996570   \n",
       "std          2.277167e+07              0.002255          0.034587   \n",
       "min          0.000000e+00              0.000000          0.400000   \n",
       "25%          1.329270e+05              0.000000          1.000000   \n",
       "50%          2.191050e+05              0.000000          1.000000   \n",
       "75%          4.259550e+05              0.000000          1.000000   \n",
       "max          1.303496e+09              0.120910          1.000000   \n",
       "\n",
       "       sup_okpd_exp    sup_1s_sev  sup_1s_org_sev  sup_sim_price  \\\n",
       "count  11862.000000  11862.000000    11862.000000   11862.000000   \n",
       "mean       0.851908      0.000422        0.002482       0.369367   \n",
       "std        0.328467      0.020527        0.044228       0.339632   \n",
       "min        0.000000      0.000000        0.000000       0.000000   \n",
       "25%        0.980320      0.000000        0.000000       0.111110   \n",
       "50%        1.000000      0.000000        0.000000       0.217390   \n",
       "75%        1.000000      0.000000        0.000000       0.500000   \n",
       "max       10.000000      1.000000        1.000000       1.000000   \n",
       "\n",
       "       price_higher_pmp  price_too_low  \n",
       "count      11862.000000   11862.000000  \n",
       "mean           0.053448       0.077980  \n",
       "std            0.224935       0.268152  \n",
       "min            0.000000       0.000000  \n",
       "25%            0.000000       0.000000  \n",
       "50%            0.000000       0.000000  \n",
       "75%            0.000000       0.000000  \n",
       "max            1.000000       1.000000  "
      ]
     },
     "execution_count": 173,
     "metadata": {},
     "output_type": "execute_result"
    }
   ],
   "source": [
    "# Описательные статистики атрибутов\n",
    "X.describe()"
   ]
  },
  {
   "cell_type": "code",
   "execution_count": 174,
   "metadata": {
    "collapsed": true
   },
   "outputs": [],
   "source": [
    "# Предобработка данных\n",
    "# Медиана = 1, квадратичное отклонени = 0\n",
    "scaler = StandardScaler()\n",
    "X = scaler.fit_transform(X)"
   ]
  },
  {
   "cell_type": "code",
   "execution_count": 181,
   "metadata": {
    "collapsed": true
   },
   "outputs": [],
   "source": [
    "# Логистическая регрессия\n",
    "model = LogisticRegression()"
   ]
  },
  {
   "cell_type": "code",
   "execution_count": 182,
   "metadata": {
    "collapsed": true
   },
   "outputs": [],
   "source": [
    "y_train_real = np.array([])\n",
    "y_test_real = np.array([])\n",
    "\n",
    "y_train_pred = np.array([])\n",
    "y_test_pred = np.array([])\n",
    "y_test_pred_proba = np.zeros((0, 2))"
   ]
  },
  {
   "cell_type": "code",
   "execution_count": 183,
   "metadata": {},
   "outputs": [],
   "source": [
    "for train_index, test_index in KFold(n_splits=10).split(X):\n",
    "    X_train = X[train_index]\n",
    "    X_test = X[test_index]\n",
    "    \n",
    "    y_train = y[train_index]\n",
    "    y_test = y[test_index]\n",
    "    \n",
    "    model.fit(X_train, y_train)\n",
    "    \n",
    "    y_train_real = np.concatenate((y_train_real, y_train))\n",
    "    y_test_real = np.concatenate((y_test_real, y_test))\n",
    "    \n",
    "    y_train_pred = np.concatenate((y_train_pred, model.predict(X_train)))\n",
    "    y_test_pred = np.concatenate((y_test_pred, model.predict(X_test)))\n",
    "    y_test_pred_proba = np.concatenate((y_test_pred_proba, model.predict_proba(X_test)))    "
   ]
  },
  {
   "cell_type": "code",
   "execution_count": 184,
   "metadata": {},
   "outputs": [
    {
     "data": {
      "text/plain": [
       "[('sup_1s_org_sev', -1.4532295390116272),\n",
       " ('price_higher_pmp', -0.70553590343311656),\n",
       " ('sup_no_pnl_share', -0.37629585134572685),\n",
       " ('sup_1s_sev', -0.15387175332390968),\n",
       " ('price_too_low', -0.12415279811393852),\n",
       " ('sup_cntr_avg_penalty', -0.10881363901108512),\n",
       " ('sup_sim_price', -0.070772670364820392),\n",
       " ('sup_cntr_num', -0.051448794961899268),\n",
       " ('sup_cntr_avg_price', -0.030300040739566249),\n",
       " ('org_1s_sev', -0.0078984870999719726),\n",
       " ('org_1s_sup_sev', 0.01043039001619021),\n",
       " ('org_cntr_num', 0.26481935744346313),\n",
       " ('sup_okpd_exp', 2.3615197086907433)]"
      ]
     },
     "execution_count": 184,
     "metadata": {},
     "output_type": "execute_result"
    }
   ],
   "source": [
    "# Коэффициенты при объясняющих переменных в порядке возрастания\n",
    "# Чем больше коэффициент по модулю, тем более значимым он является\n",
    "sorted(\n",
    "    dict(\n",
    "        zip(\n",
    "            data.iloc[:,1:-1].columns, \n",
    "            list(reg3.coef_[0])\n",
    "        )\n",
    "    ).items(),\n",
    "    key=lambda i: i[1]\n",
    ")"
   ]
  },
  {
   "cell_type": "code",
   "execution_count": 185,
   "metadata": {},
   "outputs": [
    {
     "name": "stdout",
     "output_type": "stream",
     "text": [
      "Точность 0.737537233744 на обучающей выборке\n",
      "Точность 0.708565166077 на тестовой выборке\n",
      "Потеря перекрестной энтропии 0.604331348954\n"
     ]
    }
   ],
   "source": [
    "print('Точность %s на обучающей выборке' % accuracy_score(y_train_real, y_train_pred))\n",
    "print('Точность %s на тестовой выборке' % accuracy_score(y_test_real, y_test_pred))\n",
    "print('Потеря перекрестной энтропии %s' % log_loss(y_test_real, y_test_pred_proba))"
   ]
  },
  {
   "cell_type": "code",
   "execution_count": 186,
   "metadata": {},
   "outputs": [
    {
     "name": "stdout",
     "output_type": "stream",
     "text": [
      "             precision    recall  f1-score   support\n",
      "\n",
      "     Плохой       0.88      0.48      0.62      5926\n",
      "    Хороший       0.64      0.93      0.76      5936\n",
      "\n",
      "avg / total       0.76      0.71      0.69     11862\n",
      "\n"
     ]
    }
   ],
   "source": [
    "print(classification_report(y_test_real, y_test_pred, target_names=('Плохой', 'Хороший')))"
   ]
  },
  {
   "cell_type": "code",
   "execution_count": 187,
   "metadata": {},
   "outputs": [
    {
     "data": {
      "text/html": [
       "<div>\n",
       "<style>\n",
       "    .dataframe thead tr:only-child th {\n",
       "        text-align: right;\n",
       "    }\n",
       "\n",
       "    .dataframe thead th {\n",
       "        text-align: left;\n",
       "    }\n",
       "\n",
       "    .dataframe tbody tr th {\n",
       "        vertical-align: top;\n",
       "    }\n",
       "</style>\n",
       "<table border=\"1\" class=\"dataframe\">\n",
       "  <thead>\n",
       "    <tr style=\"text-align: right;\">\n",
       "      <th></th>\n",
       "      <th>result</th>\n",
       "      <th>proba_pred_bad</th>\n",
       "      <th>pred</th>\n",
       "    </tr>\n",
       "  </thead>\n",
       "  <tbody>\n",
       "    <tr>\n",
       "      <th>0</th>\n",
       "      <td>0.0</td>\n",
       "      <td>0.938582</td>\n",
       "      <td>0.0</td>\n",
       "    </tr>\n",
       "    <tr>\n",
       "      <th>1</th>\n",
       "      <td>0.0</td>\n",
       "      <td>0.305596</td>\n",
       "      <td>1.0</td>\n",
       "    </tr>\n",
       "    <tr>\n",
       "      <th>2</th>\n",
       "      <td>0.0</td>\n",
       "      <td>0.308337</td>\n",
       "      <td>1.0</td>\n",
       "    </tr>\n",
       "    <tr>\n",
       "      <th>3</th>\n",
       "      <td>0.0</td>\n",
       "      <td>0.993673</td>\n",
       "      <td>0.0</td>\n",
       "    </tr>\n",
       "    <tr>\n",
       "      <th>4</th>\n",
       "      <td>0.0</td>\n",
       "      <td>0.910900</td>\n",
       "      <td>0.0</td>\n",
       "    </tr>\n",
       "  </tbody>\n",
       "</table>\n",
       "</div>"
      ],
      "text/plain": [
       "   result  proba_pred_bad  pred\n",
       "0     0.0        0.938582   0.0\n",
       "1     0.0        0.305596   1.0\n",
       "2     0.0        0.308337   1.0\n",
       "3     0.0        0.993673   0.0\n",
       "4     0.0        0.910900   0.0"
      ]
     },
     "execution_count": 187,
     "metadata": {},
     "output_type": "execute_result"
    }
   ],
   "source": [
    "# Таблица для оценки результатов\n",
    "# result - настоящие статус контракта (0 - плохой, 1 - хороший)\n",
    "# proba_pred_bad - предсказываемая вероятность плохого исхода контракта\n",
    "# pred - предсказываемое значение в бинарной шкале\n",
    "res = pd.DataFrame({'result': y_test_real}).join(\n",
    "    pd.DataFrame({'proba_pred_bad': y_test_pred_proba[:,0]}).join(\n",
    "        pd.DataFrame({'pred': y_test_pred})\n",
    "    )\n",
    ")\n",
    "res.head(5)"
   ]
  },
  {
   "cell_type": "code",
   "execution_count": 160,
   "metadata": {},
   "outputs": [
    {
     "data": {
      "text/html": [
       "<div>\n",
       "<style>\n",
       "    .dataframe thead tr:only-child th {\n",
       "        text-align: right;\n",
       "    }\n",
       "\n",
       "    .dataframe thead th {\n",
       "        text-align: left;\n",
       "    }\n",
       "\n",
       "    .dataframe tbody tr th {\n",
       "        vertical-align: top;\n",
       "    }\n",
       "</style>\n",
       "<table border=\"1\" class=\"dataframe\">\n",
       "  <thead>\n",
       "    <tr style=\"text-align: right;\">\n",
       "      <th></th>\n",
       "      <th>result</th>\n",
       "      <th>proba_pred_bad</th>\n",
       "      <th>pred</th>\n",
       "    </tr>\n",
       "  </thead>\n",
       "  <tbody>\n",
       "    <tr>\n",
       "      <th>result</th>\n",
       "      <td>1.000000</td>\n",
       "      <td>-0.402965</td>\n",
       "      <td>0.467341</td>\n",
       "    </tr>\n",
       "    <tr>\n",
       "      <th>proba_pred_bad</th>\n",
       "      <td>-0.402965</td>\n",
       "      <td>1.000000</td>\n",
       "      <td>-0.921953</td>\n",
       "    </tr>\n",
       "    <tr>\n",
       "      <th>pred</th>\n",
       "      <td>0.467341</td>\n",
       "      <td>-0.921953</td>\n",
       "      <td>1.000000</td>\n",
       "    </tr>\n",
       "  </tbody>\n",
       "</table>\n",
       "</div>"
      ],
      "text/plain": [
       "                  result  proba_pred_bad      pred\n",
       "result          1.000000       -0.402965  0.467341\n",
       "proba_pred_bad -0.402965        1.000000 -0.921953\n",
       "pred            0.467341       -0.921953  1.000000"
      ]
     },
     "execution_count": 160,
     "metadata": {},
     "output_type": "execute_result"
    }
   ],
   "source": [
    "# Корреляционная матрица\n",
    "res.corr()"
   ]
  },
  {
   "cell_type": "markdown",
   "metadata": {},
   "source": [
    "Коэффициент корреляции принимает значение от -1 до 1. \n",
    "\n",
    "Корреляция предсказываемой вероятности (proba_pred_bad) и реального статуса (result) контракта есть, но не очень большая. Она отрицательная, так как чем больше вероятность того, что контракт плохой, тем более вероятно, что его настоящий статус (result) равен 0.\n",
    "\n",
    "Корреляция предсказываемой вероятности (pred) и реального статуса (result) контракта также есть, но не очень большая. Целевое значение я оцениваю от 0,6-0,7."
   ]
  },
  {
   "cell_type": "markdown",
   "metadata": {},
   "source": [
    "### Матрица ошибок"
   ]
  },
  {
   "cell_type": "code",
   "execution_count": 188,
   "metadata": {
    "collapsed": true
   },
   "outputs": [],
   "source": [
    "def plot_confusion_matrix(\n",
    "    cm, classes, normalize=False, title='Confusion matrix', cmap=plt.cm.Blues\n",
    "):\n",
    "    \"\"\"Функция для построения матрицы ошибок\"\"\"\n",
    "   \n",
    "    if normalize:\n",
    "        cm = cm.astype('float') / cm.sum(axis=1)[:, np.newaxis]\n",
    "\n",
    "    plt.imshow(cm, interpolation='nearest', cmap=cmap)\n",
    "    plt.title(title)\n",
    "    plt.colorbar()\n",
    "    tick_marks = np.arange(len(classes))\n",
    "    plt.xticks(tick_marks, classes)\n",
    "    plt.yticks(tick_marks, classes)\n",
    "\n",
    "    fmt = '.2f' if normalize else 'd'\n",
    "    thresh = cm.max() / 2.\n",
    "    for i, j in itertools.product(range(cm.shape[0]), range(cm.shape[1])):\n",
    "        plt.text(j, i, format(cm[i, j], fmt),\n",
    "                 horizontalalignment=\"center\",\n",
    "                 color=\"white\" if cm[i, j] > thresh else \"black\")\n",
    "\n",
    "    plt.tight_layout()\n",
    "    plt.ylabel('True label')\n",
    "    plt.xlabel('Predicted label')"
   ]
  },
  {
   "cell_type": "code",
   "execution_count": 162,
   "metadata": {},
   "outputs": [
    {
     "data": {
      "image/png": "[encoded data removed]",
      "text/plain": [
       "<matplotlib.figure.Figure at 0x1a1c97aef0>"
      ]
     },
     "metadata": {},
     "output_type": "display_data"
    }
   ],
   "source": [
    "cnf_matrix = confusion_matrix(y_test_real, y_test_pred)\n",
    "plot_confusion_matrix(\n",
    "    cnf_matrix, classes=reg3.classes_, title='Confusion matrix, without normalization'\n",
    ")"
   ]
  },
  {
   "cell_type": "markdown",
   "metadata": {},
   "source": [
    "### Кластеризация"
   ]
  },
  {
   "cell_type": "markdown",
   "metadata": {},
   "source": [
    "Было решено уменьшить размерность пространства до двухмерного. А затем попытаться разделить объекты на 2 класса и визуализировать их на плоскости. Это поможет понять, насколько при текущих данных реально их разделить на 2 класса."
   ]
  },
  {
   "cell_type": "code",
   "execution_count": 154,
   "metadata": {},
   "outputs": [
    {
     "data": {
      "image/png": "[encoded data removed]",
      "text/plain": [
       "<matplotlib.figure.Figure at 0x1a1dd59978>"
      ]
     },
     "metadata": {},
     "output_type": "display_data"
    }
   ],
   "source": [
    "model1 = KMeans(n_clusters=2).fit(X)\n",
    "plot_columns = PCA(2).fit_transform(X)\n",
    "plt.scatter(x=plot_columns[:,0], y=plot_columns[:,1], c=model1.labels_,)\n",
    "plt.xlabel('Canonical variable 1')\n",
    "plt.ylabel('Canonical variable 2')\n",
    "plt.title('Scatterplot of Canonical Variables for 2 Clusters')\n",
    "plt.show()"
   ]
  },
  {
   "cell_type": "code",
   "execution_count": 156,
   "metadata": {},
   "outputs": [
    {
     "data": {
      "image/png": "[encoded data removed]",
      "text/plain": [
       "<matplotlib.figure.Figure at 0x1a1dff34a8>"
      ]
     },
     "metadata": {},
     "output_type": "display_data"
    }
   ],
   "source": [
    "model2 = KMeans(n_clusters=2).fit(X)\n",
    "plot_columns = PCA(2).fit_transform(X)\n",
    "plt.scatter(x=plot_columns[:,0], y=plot_columns[:,1], c=model2.labels_,)\n",
    "plt.xlabel('Canonical variable 1')\n",
    "plt.ylabel('Canonical variable 2')\n",
    "plt.title('Scatterplot of Canonical Variables for 2 Clusters')\n",
    "plt.show()"
   ]
  },
  {
   "cell_type": "code",
   "execution_count": 158,
   "metadata": {},
   "outputs": [
    {
     "data": {
      "image/png": "[encoded data removed]",
      "text/plain": [
       "<matplotlib.figure.Figure at 0x1a1e24cb38>"
      ]
     },
     "metadata": {},
     "output_type": "display_data"
    }
   ],
   "source": [
    "model3 = KMeans(n_clusters=2).fit(X)\n",
    "plot_columns = PCA(2).fit_transform(X)\n",
    "plt.scatter(x=plot_columns[:,0], y=plot_columns[:,1], c=model3.labels_,)\n",
    "plt.xlabel('Canonical variable 1')\n",
    "plt.ylabel('Canonical variable 2')\n",
    "plt.title('Scatterplot of Canonical Variables for 2 Clusters')\n",
    "plt.show()"
   ]
  },
  {
   "cell_type": "markdown",
   "metadata": {},
   "source": [
    "Как видно каждый раз разделение на кластеры сильно отличается. Из чего можно предположить, что текущих признаков объектов не хватает для более четкого разделения на 2 класса. "
   ]
  },
  {
   "cell_type": "markdown",
   "metadata": {},
   "source": [
    "### Корреляция между предсказываемой вероятностью и реальными данными"
   ]
  },
  {
   "cell_type": "code",
   "execution_count": 163,
   "metadata": {},
   "outputs": [],
   "source": [
    "counter0 = Counter() # счетчик плохих контрактов\n",
    "counter1 = Counter() # счетчик хороших контрактов\n",
    "\n",
    "for index, row in res.iterrows():\n",
    "    proba = round(row['proba_pred_bad'], 2)\n",
    "    \n",
    "    if not row['result']:\n",
    "        counter0[proba] += 1\n",
    "    else:\n",
    "        counter1[proba] += 1"
   ]
  },
  {
   "cell_type": "code",
   "execution_count": 164,
   "metadata": {
    "collapsed": true
   },
   "outputs": [],
   "source": [
    "corr_df0 = pd.DataFrame.from_dict(counter0, orient='index').reset_index().sort_values(['index'])\n",
    "corr_df1 = pd.DataFrame.from_dict(counter1, orient='index').reset_index().sort_values(['index'])"
   ]
  },
  {
   "cell_type": "code",
   "execution_count": 190,
   "metadata": {},
   "outputs": [
    {
     "data": {
      "image/png": "[encoded data removed]",
      "text/plain": [
       "<matplotlib.figure.Figure at 0x1a1c8954a8>"
      ]
     },
     "metadata": {},
     "output_type": "display_data"
    }
   ],
   "source": [
    "fig = plt.figure(figsize=(10,5))\n",
    "ax = fig.add_subplot(111)\n",
    "\n",
    "ax.plot(corr_df0['index'], corr_df0[0])\n",
    "ax.plot(corr_df1['index'], corr_df1[0])\n",
    "\n",
    "plt.legend(['Плохие контракты', 'Хорошие контракты'], loc='upper left')\n",
    "plt.xlabel('Предсказываемая вероятность плохого исхода')\n",
    "plt.ylabel('Реальное количество контрактов')\n",
    "plt.title('Корреляция proba_pred_bad и result')\n",
    "plt.show()"
   ]
  }
 ],
 "metadata": {
  "kernelspec": {
   "display_name": "Python 3",
   "language": "python",
   "name": "python3"
  },
  "language_info": {
   "codemirror_mode": {
    "name": "ipython",
    "version": 3
   },
   "file_extension": ".py",
   "mimetype": "text/x-python",
   "name": "python",
   "nbconvert_exporter": "python",
   "pygments_lexer": "ipython3",
   "version": "3.6.2"
  }
 },
 "nbformat": 4,
 "nbformat_minor": 2
}
