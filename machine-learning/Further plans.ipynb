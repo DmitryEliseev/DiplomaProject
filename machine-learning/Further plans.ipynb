{
 "cells": [
  {
   "cell_type": "markdown",
   "metadata": {},
   "source": [
    "## Дальнейшие планы\n",
    "#### Алгоритмы\n",
    "1. Применить xgboost +\n",
    "2. Построить ансамбль и xgboost и RandomForest (не реализована)\n",
    "3. Сохранение обученного алгоритма с помощью pickle\n",
    "\n",
    "#### Подбор параметров для алгоритмов\n",
    "1. Осуществить подбор пораметров с помощью GridSearchCV, Hyperopt (не реализована)\n",
    "\n",
    "#### Анализ данных и предобработка\n",
    "1. Обработка выбросов (не реализована)\n",
    "\n",
    "#### Архитектура кода\n",
    "1. Добавление построения ROC-кривой в функцию test_model\n",
    "2. Добавление построения precision_recall_curve в learn_one_model\n",
    "\n",
    "#### Предметная область\n",
    "1. Как OKPD связан с OKVED?\n",
    "2. Как устроен OKPD?\n",
    "3. Учитывать KBK (http://www.consultant.ru/document/cons_doc_LAW_190535/d06a17bdb01d31dbe5d83eb121f280d82b663641/, http://kcbux.ru/Spravochnik/kbk/sp_00_kbk-struktura.html)\n",
    "\n",
    "### Внедрение модели в Java окружение\n",
    "1. Обучение модели на Python, перенос модели через .pkl в Java среду\n",
    "2. Обучение и применение моделей в Java среде"
   ]
  },
  {
   "cell_type": "code",
   "execution_count": null,
   "metadata": {
    "collapsed": true
   },
   "outputs": [],
   "source": []
  }
 ],
 "metadata": {
  "kernelspec": {
   "display_name": "Python 3",
   "language": "python",
   "name": "python3"
  },
  "language_info": {
   "codemirror_mode": {
    "name": "ipython",
    "version": 3
   },
   "file_extension": ".py",
   "mimetype": "text/x-python",
   "name": "python",
   "nbconvert_exporter": "python",
   "pygments_lexer": "ipython3",
   "version": "3.6.2"
  }
 },
 "nbformat": 4,
 "nbformat_minor": 2
}
