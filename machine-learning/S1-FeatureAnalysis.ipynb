{
 "cells": [
  {
   "cell_type": "code",
   "execution_count": 1,
   "metadata": {
    "collapsed": true
   },
   "outputs": [],
   "source": [
    "import pandas as pd\n",
    "import numpy as np\n",
    "\n",
    "from sklearn.feature_selection import SelectKBest, RFE, chi2\n",
    "from sklearn.linear_model import LogisticRegression"
   ]
  },
  {
   "cell_type": "code",
   "execution_count": 2,
   "metadata": {},
   "outputs": [
    {
     "name": "stdout",
     "output_type": "stream",
     "text": [
      "(11862, 15)\n"
     ]
    }
   ],
   "source": [
    "# Считывание хороших и плохих контрактов\n",
    "bad_cntr = pd.read_csv('../data/yarobl_bad_contracts_plus.csv')\n",
    "good_cntr = pd.read_csv('../data/yaroblmz_good_contracts.csv')\n",
    "data = bad_cntr.append(good_cntr)\n",
    "data = data.dropna()\n",
    "print(data.shape)"
   ]
  },
  {
   "cell_type": "code",
   "execution_count": 3,
   "metadata": {
    "collapsed": true
   },
   "outputs": [],
   "source": [
    "column_names = data.iloc[:,1:-1].columns\n",
    "X = data.iloc[:,1:-1]\n",
    "y = data.cntr_result.values"
   ]
  },
  {
   "cell_type": "markdown",
   "metadata": {},
   "source": [
    "### Выбор признаков"
   ]
  },
  {
   "cell_type": "code",
   "execution_count": 4,
   "metadata": {
    "collapsed": true
   },
   "outputs": [],
   "source": [
    "test = SelectKBest(score_func=chi2, k=4)\n",
    "fit = test.fit(X, y)\n",
    "result = sorted(\n",
    "    dict(zip(data.iloc[:,1:-1].columns, [int(e) for e in list(fit.scores_)])).items(),\n",
    "    key=lambda a: a[1],\n",
    "    reverse=True\n",
    ")"
   ]
  },
  {
   "cell_type": "code",
   "execution_count": 5,
   "metadata": {},
   "outputs": [
    {
     "data": {
      "text/plain": [
       "[('sup_cntr_avg_price', 8892454),\n",
       " ('org_cntr_num', 544717),\n",
       " ('sup_cntr_num', 1063),\n",
       " ('price_higher_pmp', 430),\n",
       " ('sup_okpd_exp', 274),\n",
       " ('sup_sim_price', 39),\n",
       " ('sup_1s_org_sev', 27),\n",
       " ('price_too_low', 11),\n",
       " ('sup_1s_sev', 5),\n",
       " ('org_1s_sev', 0),\n",
       " ('org_1s_sup_sev', 0),\n",
       " ('sup_cntr_avg_penalty', 0),\n",
       " ('sup_no_pnl_share', 0)]"
      ]
     },
     "execution_count": 5,
     "metadata": {},
     "output_type": "execute_result"
    }
   ],
   "source": [
    "result"
   ]
  },
  {
   "cell_type": "code",
   "execution_count": 6,
   "metadata": {},
   "outputs": [
    {
     "name": "stdout",
     "output_type": "stream",
     "text": [
      "Самые важные признаки: sup_cntr_avg_price, org_cntr_num, sup_cntr_num\n"
     ]
    }
   ],
   "source": [
    "print('Самые важные признаки: {}'.format(', '.join(elem[0] for elem in result[:3])))"
   ]
  },
  {
   "cell_type": "code",
   "execution_count": 7,
   "metadata": {
    "collapsed": true
   },
   "outputs": [],
   "source": [
    "model = LogisticRegression()\n",
    "\n",
    "NUM_OF_BEST_FEATURES = 3\n",
    "fit = RFE(model, NUM_OF_BEST_FEATURES).fit(X, y)\n",
    "\n",
    "result = sorted(\n",
    "    dict(zip(column_names, fit.ranking_)).items(),\n",
    "    key=lambda a: a[1]\n",
    ")"
   ]
  },
  {
   "cell_type": "code",
   "execution_count": 8,
   "metadata": {},
   "outputs": [
    {
     "data": {
      "text/plain": [
       "[('sup_no_pnl_share', 1),\n",
       " ('sup_okpd_exp', 1),\n",
       " ('sup_1s_org_sev', 1),\n",
       " ('price_higher_pmp', 2),\n",
       " ('sup_1s_sev', 3),\n",
       " ('price_too_low', 4),\n",
       " ('org_1s_sev', 5),\n",
       " ('sup_sim_price', 6),\n",
       " ('sup_cntr_avg_penalty', 7),\n",
       " ('sup_cntr_num', 8),\n",
       " ('org_cntr_num', 9),\n",
       " ('sup_cntr_avg_price', 10),\n",
       " ('org_1s_sup_sev', 11)]"
      ]
     },
     "execution_count": 8,
     "metadata": {},
     "output_type": "execute_result"
    }
   ],
   "source": [
    "result"
   ]
  }
 ],
 "metadata": {
  "kernelspec": {
   "display_name": "Python 3",
   "language": "python",
   "name": "python3"
  },
  "language_info": {
   "codemirror_mode": {
    "name": "ipython",
    "version": 3
   },
   "file_extension": ".py",
   "mimetype": "text/x-python",
   "name": "python",
   "nbconvert_exporter": "python",
   "pygments_lexer": "ipython3",
   "version": "3.6.2"
  }
 },
 "nbformat": 4,
 "nbformat_minor": 2
}
