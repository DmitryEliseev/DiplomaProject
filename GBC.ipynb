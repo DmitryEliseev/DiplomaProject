{
 "cells": [
  {
   "cell_type": "code",
   "execution_count": 1,
   "metadata": {
    "collapsed": true
   },
   "outputs": [],
   "source": [
    "from collections import Counter\n",
    "import itertools\n",
    "\n",
    "import pandas as pd\n",
    "import numpy as np\n",
    "\n",
    "from sklearn.preprocessing import StandardScaler\n",
    "from sklearn.metrics import accuracy_score, log_loss, classification_report, confusion_matrix\n",
    "from sklearn.model_selection import train_test_split, KFold\n",
    "from sklearn.ensemble import GradientBoostingClassifier\n",
    "\n",
    "import seaborn as sb\n",
    "\n",
    "from matplotlib.ticker import MultipleLocator\n",
    "import matplotlib.pyplot as plt\n",
    "%matplotlib inline"
   ]
  },
  {
   "cell_type": "code",
   "execution_count": 2,
   "metadata": {},
   "outputs": [
    {
     "name": "stdout",
     "output_type": "stream",
     "text": [
      "(11926, 15)\n"
     ]
    }
   ],
   "source": [
    "# Считывание хороших и плохих контрактов\n",
    "bad_cntr = pd.read_csv('yarobl_bad_contracts_plus.csv')\n",
    "good_cntr = pd.read_csv('yaroblmz_good_contracts.csv')\n",
    "data = bad_cntr.append(good_cntr)\n",
    "print(data.shape)\n",
    "\n",
    "# Сокращение количества хороших контрактов до числа имеющихся плохих\n",
    "# data = good_cntr.append(bad_cntr.iloc[:good_cntr.shape[0],:])\n",
    "# print(data.shape)"
   ]
  },
  {
   "cell_type": "code",
   "execution_count": 3,
   "metadata": {
    "collapsed": true
   },
   "outputs": [],
   "source": [
    "# Удаление строк, в которых есть значение NULL\n",
    "data = data.dropna()"
   ]
  },
  {
   "cell_type": "code",
   "execution_count": 4,
   "metadata": {
    "collapsed": true
   },
   "outputs": [],
   "source": [
    "# Разбитие датасета на набор описывающих признаков (X) \n",
    "# и соответствущих им предсказываемых величин (у)\n",
    "X = data.iloc[:,1:-1]\n",
    "y = data.cntr_result.values"
   ]
  },
  {
   "cell_type": "code",
   "execution_count": 5,
   "metadata": {
    "collapsed": true
   },
   "outputs": [],
   "source": [
    "# Предобработка данных\n",
    "# Медиана = 1, квадратичное отклонени = 0\n",
    "scaler = StandardScaler()\n",
    "X = scaler.fit_transform(X)"
   ]
  },
  {
   "cell_type": "code",
   "execution_count": 6,
   "metadata": {
    "collapsed": true
   },
   "outputs": [],
   "source": [
    "y_train_real = np.array([])\n",
    "y_test_real = np.array([])\n",
    "\n",
    "y_train_pred = np.array([])\n",
    "y_test_pred = np.array([])\n",
    "y_test_pred_proba = np.zeros((0, 2))"
   ]
  },
  {
   "cell_type": "code",
   "execution_count": 7,
   "metadata": {
    "collapsed": true
   },
   "outputs": [],
   "source": [
    "classifier = GradientBoostingClassifier()"
   ]
  },
  {
   "cell_type": "code",
   "execution_count": 8,
   "metadata": {
    "collapsed": true
   },
   "outputs": [],
   "source": [
    "for train_index, test_index in KFold(n_splits=10).split(X):\n",
    "    X_train = X[train_index]\n",
    "    X_test = X[test_index]\n",
    "    \n",
    "    y_train = y[train_index]\n",
    "    y_test = y[test_index]\n",
    "    \n",
    "    classifier.fit(X_train, y_train)\n",
    "    \n",
    "    y_train_real = np.concatenate((y_train_real, y_train))\n",
    "    y_test_real = np.concatenate((y_test_real, y_test))\n",
    "    \n",
    "    y_train_pred = np.concatenate((y_train_pred, classifier.predict(X_train)))\n",
    "    y_test_pred = np.concatenate((y_test_pred, classifier.predict(X_test)))\n",
    "    y_test_pred_proba = np.concatenate((y_test_pred_proba, classifier.predict_proba(X_test))) "
   ]
  },
  {
   "cell_type": "code",
   "execution_count": 9,
   "metadata": {},
   "outputs": [
    {
     "name": "stdout",
     "output_type": "stream",
     "text": [
      "Точность 0.794628973941 на обучающей выборке\n",
      "Точность 0.757460799191 на тестовой выборке\n",
      "Потеря перекрестной энтропии 0.518187396239\n"
     ]
    }
   ],
   "source": [
    "print('Точность %s на обучающей выборке' % accuracy_score(y_train_real, y_train_pred))\n",
    "print('Точность %s на тестовой выборке' % accuracy_score(y_test_real, y_test_pred))\n",
    "print('Потеря перекрестной энтропии %s' % log_loss(y_test_real[:len(y_test_pred_proba)], y_test_pred_proba))"
   ]
  },
  {
   "cell_type": "code",
   "execution_count": 10,
   "metadata": {},
   "outputs": [
    {
     "name": "stdout",
     "output_type": "stream",
     "text": [
      "             precision    recall  f1-score   support\n",
      "\n",
      "     Плохой       0.89      0.59      0.71      5926\n",
      "    Хороший       0.69      0.93      0.79      5936\n",
      "\n",
      "avg / total       0.79      0.76      0.75     11862\n",
      "\n"
     ]
    }
   ],
   "source": [
    "print(classification_report(y_test_real, y_test_pred, target_names=('Плохой', 'Хороший')))"
   ]
  },
  {
   "cell_type": "code",
   "execution_count": 11,
   "metadata": {
    "collapsed": true
   },
   "outputs": [],
   "source": [
    "res = pd.DataFrame({'result': y_test_real}).join(\n",
    "    pd.DataFrame({'proba_pred': y_test_pred_proba[:,0]}).join(\n",
    "        pd.DataFrame({'pred': y_test_pred})\n",
    "    )\n",
    ")"
   ]
  },
  {
   "cell_type": "code",
   "execution_count": 12,
   "metadata": {},
   "outputs": [
    {
     "data": {
      "text/html": [
       "<div>\n",
       "<style>\n",
       "    .dataframe thead tr:only-child th {\n",
       "        text-align: right;\n",
       "    }\n",
       "\n",
       "    .dataframe thead th {\n",
       "        text-align: left;\n",
       "    }\n",
       "\n",
       "    .dataframe tbody tr th {\n",
       "        vertical-align: top;\n",
       "    }\n",
       "</style>\n",
       "<table border=\"1\" class=\"dataframe\">\n",
       "  <thead>\n",
       "    <tr style=\"text-align: right;\">\n",
       "      <th></th>\n",
       "      <th>result</th>\n",
       "      <th>proba_pred</th>\n",
       "      <th>pred</th>\n",
       "    </tr>\n",
       "  </thead>\n",
       "  <tbody>\n",
       "    <tr>\n",
       "      <th>result</th>\n",
       "      <td>1.000000</td>\n",
       "      <td>-0.536509</td>\n",
       "      <td>0.546936</td>\n",
       "    </tr>\n",
       "    <tr>\n",
       "      <th>proba_pred</th>\n",
       "      <td>-0.536509</td>\n",
       "      <td>1.000000</td>\n",
       "      <td>-0.919886</td>\n",
       "    </tr>\n",
       "    <tr>\n",
       "      <th>pred</th>\n",
       "      <td>0.546936</td>\n",
       "      <td>-0.919886</td>\n",
       "      <td>1.000000</td>\n",
       "    </tr>\n",
       "  </tbody>\n",
       "</table>\n",
       "</div>"
      ],
      "text/plain": [
       "              result  proba_pred      pred\n",
       "result      1.000000   -0.536509  0.546936\n",
       "proba_pred -0.536509    1.000000 -0.919886\n",
       "pred        0.546936   -0.919886  1.000000"
      ]
     },
     "execution_count": 12,
     "metadata": {},
     "output_type": "execute_result"
    }
   ],
   "source": [
    "res.corr()"
   ]
  },
  {
   "cell_type": "code",
   "execution_count": 13,
   "metadata": {
    "collapsed": true
   },
   "outputs": [],
   "source": [
    "def plot_confusion_matrix(\n",
    "    cm, classes, normalize=False, title='Confusion matrix', cmap=plt.cm.Blues\n",
    "):\n",
    "   \n",
    "    if normalize:\n",
    "        cm = cm.astype('float') / cm.sum(axis=1)[:, np.newaxis]\n",
    "\n",
    "    plt.imshow(cm, interpolation='nearest', cmap=cmap)\n",
    "    plt.title(title)\n",
    "    plt.colorbar()\n",
    "    tick_marks = np.arange(len(classes))\n",
    "    plt.xticks(tick_marks, classes)\n",
    "    plt.yticks(tick_marks, classes)\n",
    "\n",
    "    fmt = '.2f' if normalize else 'd'\n",
    "    thresh = cm.max() / 2.\n",
    "    for i, j in itertools.product(range(cm.shape[0]), range(cm.shape[1])):\n",
    "        plt.text(j, i, format(cm[i, j], fmt),\n",
    "                 horizontalalignment=\"center\",\n",
    "                 color=\"white\" if cm[i, j] > thresh else \"black\")\n",
    "\n",
    "    plt.tight_layout()\n",
    "    plt.ylabel('True label')\n",
    "    plt.xlabel('Predicted label')"
   ]
  },
  {
   "cell_type": "code",
   "execution_count": 14,
   "metadata": {},
   "outputs": [
    {
     "data": {
      "image/png": "[encoded data removed]",
      "text/plain": [
       "<matplotlib.figure.Figure at 0x1a0aa40c50>"
      ]
     },
     "metadata": {},
     "output_type": "display_data"
    }
   ],
   "source": [
    "plot_confusion_matrix(\n",
    "    confusion_matrix(y_test_real, y_test_pred), \n",
    "    classes=classifier.classes_, \n",
    "#     normalize=True,\n",
    "    title='Confusion matrix, without normalization'\n",
    ")"
   ]
  },
  {
   "cell_type": "code",
   "execution_count": 17,
   "metadata": {},
   "outputs": [],
   "source": [
    "counter0 = Counter() # счетчик плохих контрактов\n",
    "counter1 = Counter() # счетчик хороших контрактов\n",
    "\n",
    "for index, row in res.iterrows():\n",
    "    proba = round(row['proba_pred'], 2)\n",
    "    \n",
    "    if not row['result']:\n",
    "        counter0[proba] += 1\n",
    "    else:\n",
    "        counter1[proba] += 1"
   ]
  },
  {
   "cell_type": "code",
   "execution_count": 18,
   "metadata": {
    "collapsed": true
   },
   "outputs": [],
   "source": [
    "corr_df0 = pd.DataFrame.from_dict(counter0, orient='index').reset_index().sort_values(['index'])\n",
    "corr_df1 = pd.DataFrame.from_dict(counter1, orient='index').reset_index().sort_values(['index'])"
   ]
  },
  {
   "cell_type": "code",
   "execution_count": 19,
   "metadata": {},
   "outputs": [
    {
     "data": {
      "image/png": "[encoded data removed]",
      "text/plain": [
       "<matplotlib.figure.Figure at 0x1a13f3ada0>"
      ]
     },
     "metadata": {},
     "output_type": "display_data"
    }
   ],
   "source": [
    "fig = plt.figure(figsize=(10,5))\n",
    "ax = fig.add_subplot(111)\n",
    "\n",
    "ax.plot(corr_df0['index'], corr_df0[0])\n",
    "ax.plot(corr_df1['index'], corr_df1[0])\n",
    "\n",
    "plt.legend(['Плохие контракты', 'Хорошие контракты'], loc='upper left')\n",
    "plt.xlabel('Предсказываемая вероятность плохого исхода')\n",
    "plt.ylabel('Реальное количество контрактов')\n",
    "plt.title('Корреляция proba_pred_bad и result')\n",
    "plt.show()"
   ]
  }
 ],
 "metadata": {
  "kernelspec": {
   "display_name": "Python 3",
   "language": "python",
   "name": "python3"
  },
  "language_info": {
   "codemirror_mode": {
    "name": "ipython",
    "version": 3
   },
   "file_extension": ".py",
   "mimetype": "text/x-python",
   "name": "python",
   "nbconvert_exporter": "python",
   "pygments_lexer": "ipython3",
   "version": "3.6.2"
  }
 },
 "nbformat": 4,
 "nbformat_minor": 2
}
